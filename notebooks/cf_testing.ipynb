{
 "cells": [
  {
   "cell_type": "code",
   "execution_count": 1,
   "metadata": {
    "collapsed": false
   },
   "outputs": [
    {
     "name": "stderr",
     "output_type": "stream",
     "text": [
      "WARNING: Method definition describe(AbstractArray) in module StatsBase at /home/henripal/.julia/v0.5/StatsBase/src/scalarstats.jl:573 overwritten in module DataFrames at /home/henripal/.julia/v0.5/DataFrames/src/abstractdataframe/abstractdataframe.jl:407.\n",
      "WARNING: Method definition nrow(DataFramesMeta.AbstractCompositeDataFrame) in module DataFramesMeta at /home/henripal/.julia/v0.5/DataFramesMeta/src/compositedataframe.jl:108 overwritten at /home/henripal/.julia/v0.5/DataFramesMeta/src/compositedataframe.jl:109.\n",
      "WARNING: Method definition append!(NullableArrays.NullableArray{WeakRefStrings.WeakRefString{#T<:Any}, 1}, NullableArrays.NullableArray{WeakRefStrings.WeakRefString{#T<:Any}, 1}) in module Data at /home/henripal/.julia/v0.5/DataStreams/src/DataStreams.jl:344 overwritten in module DataTables at /home/henripal/.julia/v0.5/DataTables/src/abstractdatatable/io.jl:318.\n"
     ]
    },
    {
     "data": {
      "text/plain": [
       "Plots.GRBackend()"
      ]
     },
     "execution_count": 1,
     "metadata": {},
     "output_type": "execute_result"
    }
   ],
   "source": [
    "using DataFrames, DataFramesMeta\n",
    "using Plots\n",
    "using Distributions\n",
    "using StatsModels\n",
    "using StatPlots\n",
    "gr()"
   ]
  },
  {
   "cell_type": "code",
   "execution_count": 2,
   "metadata": {
    "collapsed": true
   },
   "outputs": [],
   "source": [
    "using ClobberingReload\n",
    "using EmpiricalBayes"
   ]
  },
  {
   "cell_type": "code",
   "execution_count": 3,
   "metadata": {
    "collapsed": false
   },
   "outputs": [],
   "source": []
  },
  {
   "cell_type": "markdown",
   "metadata": {},
   "source": [
    "# Exploratory Analysis\n",
    "Some things we need to do:\n",
    "- set a 'good/not good' column\n",
    "- empirical bayes for estimation of movie rating\n",
    "- perform joins and see most successful actors, producers, writers, directors\n",
    "- compare tastes of public vs tastes of critics\n",
    "\n",
    "more?"
   ]
  },
  {
   "cell_type": "markdown",
   "metadata": {},
   "source": [
    "## Loading the data, adding some calculated columns"
   ]
  },
  {
   "cell_type": "code",
   "execution_count": 4,
   "metadata": {
    "collapsed": false
   },
   "outputs": [],
   "source": [
    "basic_cols = [:id, :title, :metascore, :user_score, :release_date, :running_time, :rating, :company, :positive, :mixed, :negative]\n",
    "review_cols = [:id, :score, :publication, :critic]\n",
    "basics = readtable(\"../data/basics.csv\", names = basic_cols,header=false);\n",
    "reviews = readtable(\"../data/reviews.csv\", names=review_cols, header=false);"
   ]
  },
  {
   "cell_type": "code",
   "execution_count": 5,
   "metadata": {
    "collapsed": false
   },
   "outputs": [],
   "source": [
    "string_to_float(str) = try parse(Float64, str) catch return(NA) end\n",
    "basics[:user_score] = map(string_to_float, basics[:user_score]);"
   ]
  },
  {
   "cell_type": "markdown",
   "metadata": {},
   "source": [
    "We now add a thumbs up/thumbs down column. The idea is that we are mostly interested in the 'good' movies, and to preserve generalization, we keep to an idea of 'good' that is very general. We don't want to make a distinction in our algorithm between excellent, very good, and good. We just want to recommend movies that you'll be happy watching "
   ]
  },
  {
   "cell_type": "code",
   "execution_count": 6,
   "metadata": {
    "collapsed": false
   },
   "outputs": [
    {
     "data": {
      "text/plain": [
       "score_to_star (generic function with 1 method)"
      ]
     },
     "execution_count": 6,
     "metadata": {},
     "output_type": "execute_result"
    }
   ],
   "source": [
    "function score_to_star(sc::Int64)\n",
    "    return max(1, convert(Int64, round(sc/10)) )\n",
    "end"
   ]
  },
  {
   "cell_type": "code",
   "execution_count": 7,
   "metadata": {
    "collapsed": false
   },
   "outputs": [],
   "source": [
    "cutoff = 70 # this could be changed\n",
    "reviews_normalized = reviews[:score] .>= cutoff;\n",
    "reviews[:stars] = score_to_star.(convert(Array{Int64, 1}, reviews[:score]));"
   ]
  },
  {
   "cell_type": "code",
   "execution_count": 8,
   "metadata": {
    "collapsed": false
   },
   "outputs": [],
   "source": [
    "reviews[:thumbsup] = reviews_normalized;"
   ]
  },
  {
   "cell_type": "markdown",
   "metadata": {},
   "source": [
    "We also want to change the 'Staff (uncredited)' values to the name of the publication."
   ]
  },
  {
   "cell_type": "code",
   "execution_count": 9,
   "metadata": {
    "collapsed": false
   },
   "outputs": [],
   "source": [
    "reviews[:critic_clean] = reviews[:critic]\n",
    "for (index, critic) in enumerate(reviews[:critic_clean])\n",
    "    if contains(critic, \"Staff\")\n",
    "        reviews[:critic_clean][index] = reviews[:publication][index]\n",
    "    end\n",
    "end"
   ]
  },
  {
   "cell_type": "markdown",
   "metadata": {},
   "source": [
    "some quick and dirty empirical bayes to produce better rating averages per movie. We suppose the ratings follow a Dirichlet-Categorical distribution, and estimate the prior using the entire dataset."
   ]
  },
  {
   "cell_type": "code",
   "execution_count": 12,
   "metadata": {
    "collapsed": false
   },
   "outputs": [
    {
     "data": {
      "text/plain": [
       "EmpiricalBayes.DirichletCategorical{String}(Dict(\"robocop-2013\"=>41,\"now-forever\"=>6,\"in-the-line-of-fire\"=>16,\"bless-the-child\"=>27,\"war-witch\"=>16,\"a-life-less-ordinary\"=>22,\"american-pie-2\"=>28,\"bright-future\"=>11,\"duma\"=>21,\"the-devil-wears-prada\"=>40…),Distributions.Dirichlet{Float64}(\n",
       "alpha: [0.230368,0.301161,0.287171,0.444957,0.654671,0.648783,0.515382,0.674257,0.321798,0.251007]\n",
       ")\n",
       ",Dict(\"robocop-2013\"=>Distributions.Categorical{Float64}(\n",
       "K: 10\n",
       "p: [0.0,0.097561,0.0,0.170732,0.219512,0.195122,0.121951,0.170732,0.0,0.0243902]\n",
       ")\n",
       ",\"now-forever\"=>Distributions.Categorical{Float64}(\n",
       "K: 10\n",
       "p: [0.0,0.333333,0.166667,0.333333,0.166667,0.0,0.0,0.0,0.0,0.0]\n",
       ")\n",
       ",\"in-the-line-of-fire\"=>Distributions.Categorical{Float64}(\n",
       "K: 10\n",
       "p: [0.0,0.0,0.0,0.0625,0.0,0.25,0.0,0.5,0.125,0.0625]\n",
       ")\n",
       ",\"bless-the-child\"=>Distributions.Categorical{Float64}(\n",
       "K: 10\n",
       "p: [0.407407,0.185185,0.037037,0.148148,0.148148,0.037037,0.0,0.037037,0.0,0.0]\n",
       ")\n",
       ",\"war-witch\"=>Distributions.Categorical{Float64}(\n",
       "K: 10\n",
       "p: [0.0,0.0,0.0,0.0,0.0625,0.0,0.0625,0.4375,0.375,0.0625]\n",
       ")\n",
       ",\"a-life-less-ordinary\"=>Distributions.Categorical{Float64}(\n",
       "K: 10\n",
       "p: [0.181818,0.0909091,0.0454545,0.136364,0.363636,0.0909091,0.0,0.0909091,0.0,0.0]\n",
       ")\n",
       ",\"american-pie-2\"=>Distributions.Categorical{Float64}(\n",
       "K: 10\n",
       "p: [0.0714286,0.107143,0.0357143,0.214286,0.178571,0.107143,0.107143,0.178571,0.0,0.0]\n",
       ")\n",
       ",\"bright-future\"=>Distributions.Categorical{Float64}(\n",
       "K: 10\n",
       "p: [0.0,0.0,0.0,0.0909091,0.181818,0.0909091,0.272727,0.272727,0.0909091,0.0]\n",
       ")\n",
       ",\"duma\"=>Distributions.Categorical{Float64}(\n",
       "K: 10\n",
       "p: [0.0,0.0,0.0,0.0,0.0,0.0952381,0.047619,0.380952,0.47619,0.0]\n",
       ")\n",
       ",\"the-devil-wears-prada\"=>Distributions.Categorical{Float64}(\n",
       "K: 10\n",
       "p: [0.0,0.0,0.0,0.025,0.225,0.15,0.25,0.325,0.025,0.0]\n",
       ")\n",
       "…),Dict(\"robocop-2013\"=>Distributions.Dirichlet{Float64}(\n",
       "alpha: [0.230368,4.30116,0.287171,7.44496,9.65467,8.64878,5.51538,7.67426,0.321798,1.25101]\n",
       ")\n",
       ",\"now-forever\"=>Distributions.Dirichlet{Float64}(\n",
       "alpha: [0.230368,2.30116,1.28717,2.44496,1.65467,0.648783,0.515382,0.674257,0.321798,0.251007]\n",
       ")\n",
       ",\"in-the-line-of-fire\"=>Distributions.Dirichlet{Float64}(\n",
       "alpha: [0.230368,0.301161,0.287171,1.44496,0.654671,4.64878,0.515382,8.67426,2.3218,1.25101]\n",
       ")\n",
       ",\"bless-the-child\"=>Distributions.Dirichlet{Float64}(\n",
       "alpha: [11.2304,5.30116,1.28717,4.44496,4.65467,1.64878,0.515382,1.67426,0.321798,0.251007]\n",
       ")\n",
       ",\"war-witch\"=>Distributions.Dirichlet{Float64}(\n",
       "alpha: [0.230368,0.301161,0.287171,0.444957,1.65467,0.648783,1.51538,7.67426,6.3218,1.25101]\n",
       ")\n",
       ",\"a-life-less-ordinary\"=>Distributions.Dirichlet{Float64}(\n",
       "alpha: [4.23037,2.30116,1.28717,3.44496,8.65467,2.64878,0.515382,2.67426,0.321798,0.251007]\n",
       ")\n",
       ",\"american-pie-2\"=>Distributions.Dirichlet{Float64}(\n",
       "alpha: [2.23037,3.30116,1.28717,6.44496,5.65467,3.64878,3.51538,5.67426,0.321798,0.251007]\n",
       ")\n",
       ",\"bright-future\"=>Distributions.Dirichlet{Float64}(\n",
       "alpha: [0.230368,0.301161,0.287171,1.44496,2.65467,1.64878,3.51538,3.67426,1.3218,0.251007]\n",
       ")\n",
       ",\"duma\"=>Distributions.Dirichlet{Float64}(\n",
       "alpha: [0.230368,0.301161,0.287171,0.444957,0.654671,2.64878,1.51538,8.67426,10.3218,0.251007]\n",
       ")\n",
       ",\"the-devil-wears-prada\"=>Distributions.Dirichlet{Float64}(\n",
       "alpha: [0.230368,0.301161,0.287171,1.44496,9.65467,6.64878,10.5154,13.6743,1.3218,0.251007]\n",
       ")\n",
       "…))"
      ]
     },
     "execution_count": 12,
     "metadata": {},
     "output_type": "execute_result"
    }
   ],
   "source": [
    "dc = dirichlet_from_df(reviews, :id, :stars)"
   ]
  },
  {
   "cell_type": "code",
   "execution_count": 16,
   "metadata": {
    "collapsed": false
   },
   "outputs": [
    {
     "name": "stderr",
     "output_type": "stream",
     "text": [
      "WARNING: Method definition adjusted_rating(Any) in module Main at In[13]:1 overwritten at In[16]:1.\n"
     ]
    },
    {
     "data": {
      "text/plain": [
       "adjusted_rating (generic function with 1 method)"
      ]
     },
     "execution_count": 16,
     "metadata": {},
     "output_type": "execute_result"
    }
   ],
   "source": [
    "adjusted_rating(name) = try (mean(dc.posteriors[name])' * (1:10))[1] catch return(NA) end"
   ]
  },
  {
   "cell_type": "markdown",
   "metadata": {},
   "source": [
    "Let's add the average rating to the basics dataframe."
   ]
  },
  {
   "cell_type": "code",
   "execution_count": 19,
   "metadata": {
    "collapsed": false
   },
   "outputs": [
    {
     "data": {
      "text/plain": [
       "8431-element DataArrays.DataArray{Any,1}:\n",
       " [5.03533]\n",
       " [6.93488]\n",
       " [4.78915]\n",
       " [8.06292]\n",
       " [5.74368]\n",
       " [7.71266]\n",
       " [5.81323]\n",
       " [6.08175]\n",
       " [6.61672]\n",
       " [6.04067]\n",
       " [4.93572]\n",
       " [7.54387]\n",
       " [5.8796] \n",
       " ⋮        \n",
       " [7.85138]\n",
       " [5.23237]\n",
       " [6.3593] \n",
       " [5.07244]\n",
       " [7.36064]\n",
       " [6.61944]\n",
       " [6.36997]\n",
       " [4.18843]\n",
       " [3.60336]\n",
       " [5.68131]\n",
       " [7.77628]\n",
       " [5.48016]"
      ]
     },
     "execution_count": 19,
     "metadata": {},
     "output_type": "execute_result"
    }
   ],
   "source": [
    "basics[:adjusted_average] = map(adjusted_rating, basics[:id])"
   ]
  },
  {
   "cell_type": "code",
   "execution_count": 22,
   "metadata": {
    "collapsed": false
   },
   "outputs": [
    {
     "data": {
      "text/plain": [
       "8431-element DataArrays.DataArray{Any,1}:\n",
       " 5.03533\n",
       " 6.93488\n",
       " 4.78915\n",
       " 8.06292\n",
       " 5.74368\n",
       " 7.71266\n",
       " 5.81323\n",
       " 6.08175\n",
       " 6.61672\n",
       " 6.04067\n",
       " 4.93572\n",
       " 7.54387\n",
       " 5.8796 \n",
       " ⋮      \n",
       " 7.85138\n",
       " 5.23237\n",
       " 6.3593 \n",
       " 5.07244\n",
       " 7.36064\n",
       " 6.61944\n",
       " 6.36997\n",
       " 4.18843\n",
       " 3.60336\n",
       " 5.68131\n",
       " 7.77628\n",
       " 5.48016"
      ]
     },
     "execution_count": 22,
     "metadata": {},
     "output_type": "execute_result"
    }
   ],
   "source": [
    "basics[:adjusted_average] = map(x -> try x[1] catch return NA end, basics[:adjusted_average])"
   ]
  },
  {
   "cell_type": "markdown",
   "metadata": {},
   "source": [
    "Without further ado:\n",
    "### The best movies according to metacritic critics:\n"
   ]
  },
  {
   "cell_type": "code",
   "execution_count": 23,
   "metadata": {
    "collapsed": false,
    "scrolled": false
   },
   "outputs": [
    {
     "data": {
      "text/html": [
       "<table class=\"data-frame\"><thead><tr><th></th><th>id</th><th>adjusted_average</th></tr></thead><tbody><tr><th>1</th><td>boyhood</td><td>9.461665405254397</td></tr><tr><th>2</th><td>moonlight-2016</td><td>9.38102739004958</td></tr><tr><th>3</th><td>pans-labyrinth</td><td>9.195551965715314</td></tr><tr><th>4</th><td>manchester-by-the-sea</td><td>9.16414510629109</td></tr><tr><th>5</th><td>the-social-network</td><td>9.131278525100678</td></tr><tr><th>6</th><td>gravity</td><td>9.114046997566124</td></tr><tr><th>7</th><td>army-of-shadows</td><td>9.1087936475983</td></tr><tr><th>8</th><td>carol</td><td>9.06377206601342</td></tr><tr><th>9</th><td>4-months-3-weeks-and-2-days</td><td>9.050377400786404</td></tr><tr><th>10</th><td>ratatouille</td><td>9.02618163996492</td></tr><tr><th>11</th><td>sideways</td><td>9.00177155815628</td></tr><tr><th>12</th><td>a-separation</td><td>8.979749977159102</td></tr><tr><th>13</th><td>spirited-away</td><td>8.977790118321948</td></tr><tr><th>14</th><td>i-am-not-your-negro</td><td>8.977239408493707</td></tr><tr><th>15</th><td>before-midnight</td><td>8.957689314414903</td></tr><tr><th>16</th><td>the-lord-of-the-rings-the-return-of-the-king</td><td>8.957689314414903</td></tr><tr><th>17</th><td>the-godfather</td><td>8.952511863039197</td></tr><tr><th>18</th><td>inside-out-2015</td><td>8.944239453886414</td></tr><tr><th>19</th><td>inside-llewyn-davis</td><td>8.923671175637981</td></tr><tr><th>20</th><td>zero-dark-thirty</td><td>8.922154595050403</td></tr></tbody></table>"
      ],
      "text/plain": [
       "20×2 DataFrames.DataFrame\n",
       "│ Row │ id                                             │ adjusted_average │\n",
       "├─────┼────────────────────────────────────────────────┼──────────────────┤\n",
       "│ 1   │ \"boyhood\"                                      │ 9.46167          │\n",
       "│ 2   │ \"moonlight-2016\"                               │ 9.38103          │\n",
       "│ 3   │ \"pans-labyrinth\"                               │ 9.19555          │\n",
       "│ 4   │ \"manchester-by-the-sea\"                        │ 9.16415          │\n",
       "│ 5   │ \"the-social-network\"                           │ 9.13128          │\n",
       "│ 6   │ \"gravity\"                                      │ 9.11405          │\n",
       "│ 7   │ \"army-of-shadows\"                              │ 9.10879          │\n",
       "│ 8   │ \"carol\"                                        │ 9.06377          │\n",
       "│ 9   │ \"4-months-3-weeks-and-2-days\"                  │ 9.05038          │\n",
       "│ 10  │ \"ratatouille\"                                  │ 9.02618          │\n",
       "│ 11  │ \"sideways\"                                     │ 9.00177          │\n",
       "│ 12  │ \"a-separation\"                                 │ 8.97975          │\n",
       "│ 13  │ \"spirited-away\"                                │ 8.97779          │\n",
       "│ 14  │ \"i-am-not-your-negro\"                          │ 8.97724          │\n",
       "│ 15  │ \"before-midnight\"                              │ 8.95769          │\n",
       "│ 16  │ \"the-lord-of-the-rings-the-return-of-the-king\" │ 8.95769          │\n",
       "│ 17  │ \"the-godfather\"                                │ 8.95251          │\n",
       "│ 18  │ \"inside-out-2015\"                              │ 8.94424          │\n",
       "│ 19  │ \"inside-llewyn-davis\"                          │ 8.92367          │\n",
       "│ 20  │ \"zero-dark-thirty\"                             │ 8.92215          │"
      ]
     },
     "execution_count": 23,
     "metadata": {},
     "output_type": "execute_result"
    }
   ],
   "source": [
    "basics = basics[isna(basics[:adjusted_average]) .== false,:]\n",
    "sort!(basics, cols=[:adjusted_average], rev=true)\n",
    "basics[1:20, [:id, :adjusted_average]]"
   ]
  },
  {
   "cell_type": "markdown",
   "metadata": {},
   "source": [
    "Obviously this shows some biases. It looks like older movies are under-represented; this might be because some older movies have less critics? Let's check this later. \n",
    "\n",
    "First let's look at our score VS the user score:"
   ]
  },
  {
   "cell_type": "code",
   "execution_count": 24,
   "metadata": {
    "collapsed": false
   },
   "outputs": [],
   "source": [
    "basics_2 = basics[isna(basics[:user_score]) .== false, :];"
   ]
  },
  {
   "cell_type": "code",
   "execution_count": 25,
   "metadata": {
    "collapsed": false
   },
   "outputs": [],
   "source": [
    "date_to_oldnew(date)= parse(date[length(date)-3:length(date)]) > 2005\n",
    "basics_2[:isnew] = map(date_to_oldnew, basics_2[:release_date]);"
   ]
  },
  {
   "cell_type": "code",
   "execution_count": 26,
   "metadata": {
    "collapsed": false
   },
   "outputs": [
    {
     "ename": "LoadError",
     "evalue": "MethodError: no method matching zero(::Type{Any})\u001b[0m\nClosest candidates are:\n  zero(\u001b[1m\u001b[31m::Type{Base.LibGit2.Oid}\u001b[0m) at libgit2/oid.jl:88\n  zero(\u001b[1m\u001b[31m::Type{Base.Pkg.Resolve.VersionWeights.VWPreBuildItem}\u001b[0m) at pkg/resolve/versionweight.jl:80\n  zero(\u001b[1m\u001b[31m::Type{Base.Pkg.Resolve.VersionWeights.VWPreBuild}\u001b[0m) at pkg/resolve/versionweight.jl:120\n  ...\u001b[0m",
     "output_type": "error",
     "traceback": [
      "MethodError: no method matching zero(::Type{Any})\u001b[0m\nClosest candidates are:\n  zero(\u001b[1m\u001b[31m::Type{Base.LibGit2.Oid}\u001b[0m) at libgit2/oid.jl:88\n  zero(\u001b[1m\u001b[31m::Type{Base.Pkg.Resolve.VersionWeights.VWPreBuildItem}\u001b[0m) at pkg/resolve/versionweight.jl:80\n  zero(\u001b[1m\u001b[31m::Type{Base.Pkg.Resolve.VersionWeights.VWPreBuild}\u001b[0m) at pkg/resolve/versionweight.jl:120\n  ...\u001b[0m",
      "",
      " in qrfact at ./linalg/qr.jl:162 [inlined]",
      " in \\(::Array{Any,2}, ::Array{Any,1}) at ./linalg/generic.jl:363"
     ]
    }
   ],
   "source": [
    "plot(basics_2, :adjusted_average, :adjusted_average, linewidth=2,\n",
    "    linecolor = \"gray\", lab=\"x = y\")\n",
    "scatter!(basics_2, :adjusted_average, :user_score, group=:isnew,\n",
    "    markersize = 2,\n",
    "    markerstrokewidth = 0,\n",
    "markeralpha = .5, lab=[\"old\", \"new\"])\n",
    "\n",
    "n = size(basics_2[:adjusted_average])[1]\n",
    "bhat = [Array(basics_2[:adjusted_average]) ones(n)]\\Array(basics_2[:user_score])\n",
    "\n",
    "Plots.abline!(bhat..., linewidth = 1, linecolor = \"navy\", lab=\"regression\")"
   ]
  },
  {
   "cell_type": "markdown",
   "metadata": {},
   "source": [
    "We can clearly see some cool, expected features: users tend to like movies panned by critics *way more*, and users tend to be a little more disatisfied with moveies with high critical acclaim."
   ]
  },
  {
   "cell_type": "code",
   "execution_count": 27,
   "metadata": {
    "collapsed": false
   },
   "outputs": [
    {
     "name": "stderr",
     "output_type": "stream",
     "text": [
      "\u001b[1m\u001b[34mINFO: binning = auto\n",
      "\u001b[0m\u001b[1m\u001b[31mWARNING: Keyword argument match_dimensions not supported with Plots.GRBackend().  Choose from: Set(Symbol[:yscale,:foreground_color_grid,:xticks,:zticks,:yticks,:bar_width,:fillcolor,:right_margin,:arrow,:background_color_legend,:xguidefont,:zguidefont,:zguide,:fillrange,:flip,:xforeground_color_border,:group,:scale,:foreground_color_subplot,:zflip,:ytickfont,:ydiscrete_values,:xlims,:zdiscrete_values,:ylims,:xflip,:background_color_inside,:ribbon,:left_margin,:title,:weights,:inset_subplots,:z,:xguide,:yforeground_color_text,:yguidefont,:linealpha,:markershape,:background_color_subplot,:annotations,:html_output_format,:seriesalpha,:layout,:zforeground_color_border,:zforeground_color_text,:yguide,:xerror,:ztickfont,:seriescolor,:guidefont,:foreground_color,:xdiscrete_values,:background_color,:bottom_margin,:show,:xscale,:color_palette,:colorbar,:linestyle,:subplot_index,:markerstrokecolor,:quiver,:tickfont,:levels,:xlink,:xforeground_color_text,:linewidth,:foreground_color_legend,:primary,:discrete_values,:orientation,:aspect_ratio,:yerror,:linecolor,:guide,:x,:grid,:markerstrokewidth,:legend,:background_color_outside,:yforeground_color_border,:seriestype,:lims,:normalize,:size,:zlims,:foreground_color_text,:overwrite_figure,:markercolor,:margin,:window_title,:foreground_color_border,:y,:ylink,:fillalpha,:bins,:zforeground_color_axis,:smooth,:markersize,:link,:markerstrokealpha,:zscale,:polar,:projection,:foreground_color_axis,:series_annotations,:xforeground_color_axis,:markeralpha,:zlink,:yforeground_color_axis,:xtickfont,:ticks,:yflip,:legendfont,:top_margin,:label,:subplot,:marker_z])\u001b[0m\u001b[1m\u001b[34mINFO: binning = auto\n",
      "\u001b[0m"
     ]
    },
    {
     "data": {
      "text/html": [
       "<?xml version=\"1.0\" encoding=\"utf-8\"?>\n",
       "<svg xmlns=\"http://www.w3.org/2000/svg\" xmlns:xlink=\"http://www.w3.org/1999/xlink\" width=\"600\" height=\"400\" viewBox=\"0 0 600 400\">\n",
       "<defs>\n",
       "  <clipPath id=\"clip00\">\n",
       "    <rect x=\"0\" y=\"0\" width=\"600\" height=\"400\"/>\n",
       "  </clipPath>\n",
       "</defs>\n",
       "<polygon clip-path=\"url(#clip00)\" points=\"\n",
       "0,400 600,400 600,0 0,0 \n",
       "  \" fill=\"#ffffff\" fill-opacity=\"1\"/>\n",
       "<defs>\n",
       "  <clipPath id=\"clip01\">\n",
       "    <rect x=\"120\" y=\"0\" width=\"421\" height=\"400\"/>\n",
       "  </clipPath>\n",
       "</defs>\n",
       "<polygon clip-path=\"url(#clip00)\" points=\"\n",
       "36.9926,40.117 536.613,40.117 536.613,3.93701 36.9926,3.93701 \n",
       "  \" fill=\"#ffffff\" fill-opacity=\"1\"/>\n",
       "<defs>\n",
       "  <clipPath id=\"clip02\">\n",
       "    <rect x=\"36\" y=\"3\" width=\"500\" height=\"37\"/>\n",
       "  </clipPath>\n",
       "</defs>\n",
       "<polygon clip-path=\"url(#clip02)\" points=\"\n",
       "51.1328,39.8852 51.1328,40.117 82.5554,40.117 82.5554,39.8852 51.1328,39.8852 51.1328,39.8852 \n",
       "  \" fill=\"#00002d\" fill-opacity=\"1\"/>\n",
       "<polyline clip-path=\"url(#clip02)\" style=\"stroke:#00002d; stroke-width:0.8; stroke-opacity:1; fill:none\" points=\"\n",
       "  51.1328,39.8852 51.1328,40.117 82.5554,40.117 82.5554,39.8852 51.1328,39.8852 \n",
       "  \"/>\n",
       "<polygon clip-path=\"url(#clip02)\" points=\"\n",
       "82.5554,38.8252 82.5554,40.117 113.978,40.117 113.978,38.8252 82.5554,38.8252 82.5554,38.8252 \n",
       "  \" fill=\"#00002d\" fill-opacity=\"1\"/>\n",
       "<polyline clip-path=\"url(#clip02)\" style=\"stroke:#00002d; stroke-width:0.8; stroke-opacity:1; fill:none\" points=\"\n",
       "  82.5554,38.8252 82.5554,40.117 113.978,40.117 113.978,38.8252 82.5554,38.8252 \n",
       "  \"/>\n",
       "<polygon clip-path=\"url(#clip02)\" points=\"\n",
       "113.978,34.8836 113.978,40.117 145.401,40.117 145.401,34.8836 113.978,34.8836 113.978,34.8836 \n",
       "  \" fill=\"#00002d\" fill-opacity=\"1\"/>\n",
       "<polyline clip-path=\"url(#clip02)\" style=\"stroke:#00002d; stroke-width:0.8; stroke-opacity:1; fill:none\" points=\"\n",
       "  113.978,34.8836 113.978,40.117 145.401,40.117 145.401,34.8836 113.978,34.8836 \n",
       "  \"/>\n",
       "<polygon clip-path=\"url(#clip02)\" points=\"\n",
       "145.401,29.5509 145.401,40.117 176.823,40.117 176.823,29.5509 145.401,29.5509 145.401,29.5509 \n",
       "  \" fill=\"#00002d\" fill-opacity=\"1\"/>\n",
       "<polyline clip-path=\"url(#clip02)\" style=\"stroke:#00002d; stroke-width:0.8; stroke-opacity:1; fill:none\" points=\"\n",
       "  145.401,29.5509 145.401,40.117 176.823,40.117 176.823,29.5509 145.401,29.5509 \n",
       "  \"/>\n",
       "<polygon clip-path=\"url(#clip02)\" points=\"\n",
       "176.823,23.1582 176.823,40.117 208.246,40.117 208.246,23.1582 176.823,23.1582 176.823,23.1582 \n",
       "  \" fill=\"#00002d\" fill-opacity=\"1\"/>\n",
       "<polyline clip-path=\"url(#clip02)\" style=\"stroke:#00002d; stroke-width:0.8; stroke-opacity:1; fill:none\" points=\"\n",
       "  176.823,23.1582 176.823,40.117 208.246,40.117 208.246,23.1582 176.823,23.1582 \n",
       "  \"/>\n",
       "<polygon clip-path=\"url(#clip02)\" points=\"\n",
       "208.246,17.5273 208.246,40.117 239.669,40.117 239.669,17.5273 208.246,17.5273 208.246,17.5273 \n",
       "  \" fill=\"#00002d\" fill-opacity=\"1\"/>\n",
       "<polyline clip-path=\"url(#clip02)\" style=\"stroke:#00002d; stroke-width:0.8; stroke-opacity:1; fill:none\" points=\"\n",
       "  208.246,17.5273 208.246,40.117 239.669,40.117 239.669,17.5273 208.246,17.5273 \n",
       "  \"/>\n",
       "<polygon clip-path=\"url(#clip02)\" points=\"\n",
       "239.669,12.2939 239.669,40.117 271.091,40.117 271.091,12.2939 239.669,12.2939 239.669,12.2939 \n",
       "  \" fill=\"#00002d\" fill-opacity=\"1\"/>\n",
       "<polyline clip-path=\"url(#clip02)\" style=\"stroke:#00002d; stroke-width:0.8; stroke-opacity:1; fill:none\" points=\"\n",
       "  239.669,12.2939 239.669,40.117 271.091,40.117 271.091,12.2939 239.669,12.2939 \n",
       "  \"/>\n",
       "<polygon clip-path=\"url(#clip02)\" points=\"\n",
       "271.091,11.0352 271.091,40.117 302.514,40.117 302.514,11.0352 271.091,11.0352 271.091,11.0352 \n",
       "  \" fill=\"#00002d\" fill-opacity=\"1\"/>\n",
       "<polyline clip-path=\"url(#clip02)\" style=\"stroke:#00002d; stroke-width:0.8; stroke-opacity:1; fill:none\" points=\"\n",
       "  271.091,11.0352 271.091,40.117 302.514,40.117 302.514,11.0352 271.091,11.0352 \n",
       "  \"/>\n",
       "<polygon clip-path=\"url(#clip02)\" points=\"\n",
       "302.514,7.62357 302.514,40.117 333.937,40.117 333.937,7.62357 302.514,7.62357 302.514,7.62357 \n",
       "  \" fill=\"#00002d\" fill-opacity=\"1\"/>\n",
       "<polyline clip-path=\"url(#clip02)\" style=\"stroke:#00002d; stroke-width:0.8; stroke-opacity:1; fill:none\" points=\"\n",
       "  302.514,7.62357 302.514,40.117 333.937,40.117 333.937,7.62357 302.514,7.62357 \n",
       "  \"/>\n",
       "<polygon clip-path=\"url(#clip02)\" points=\"\n",
       "333.937,7.2261 333.937,40.117 365.359,40.117 365.359,7.2261 333.937,7.2261 333.937,7.2261 \n",
       "  \" fill=\"#00002d\" fill-opacity=\"1\"/>\n",
       "<polyline clip-path=\"url(#clip02)\" style=\"stroke:#00002d; stroke-width:0.8; stroke-opacity:1; fill:none\" points=\"\n",
       "  333.937,7.2261 333.937,40.117 365.359,40.117 365.359,7.2261 333.937,7.2261 \n",
       "  \"/>\n",
       "<polygon clip-path=\"url(#clip02)\" points=\"\n",
       "365.359,13.3869 365.359,40.117 396.782,40.117 396.782,13.3869 365.359,13.3869 365.359,13.3869 \n",
       "  \" fill=\"#00002d\" fill-opacity=\"1\"/>\n",
       "<polyline clip-path=\"url(#clip02)\" style=\"stroke:#00002d; stroke-width:0.8; stroke-opacity:1; fill:none\" points=\"\n",
       "  365.359,13.3869 365.359,40.117 396.782,40.117 396.782,13.3869 365.359,13.3869 \n",
       "  \"/>\n",
       "<polygon clip-path=\"url(#clip02)\" points=\"\n",
       "396.782,20.3427 396.782,40.117 428.205,40.117 428.205,20.3427 396.782,20.3427 396.782,20.3427 \n",
       "  \" fill=\"#00002d\" fill-opacity=\"1\"/>\n",
       "<polyline clip-path=\"url(#clip02)\" style=\"stroke:#00002d; stroke-width:0.8; stroke-opacity:1; fill:none\" points=\"\n",
       "  396.782,20.3427 396.782,40.117 428.205,40.117 428.205,20.3427 396.782,20.3427 \n",
       "  \"/>\n",
       "<polygon clip-path=\"url(#clip02)\" points=\"\n",
       "428.205,29.9814 428.205,40.117 459.627,40.117 459.627,29.9814 428.205,29.9814 428.205,29.9814 \n",
       "  \" fill=\"#00002d\" fill-opacity=\"1\"/>\n",
       "<polyline clip-path=\"url(#clip02)\" style=\"stroke:#00002d; stroke-width:0.8; stroke-opacity:1; fill:none\" points=\"\n",
       "  428.205,29.9814 428.205,40.117 459.627,40.117 459.627,29.9814 428.205,29.9814 \n",
       "  \"/>\n",
       "<polygon clip-path=\"url(#clip02)\" points=\"\n",
       "459.627,37.136 459.627,40.117 491.05,40.117 491.05,37.136 459.627,37.136 459.627,37.136 \n",
       "  \" fill=\"#00002d\" fill-opacity=\"1\"/>\n",
       "<polyline clip-path=\"url(#clip02)\" style=\"stroke:#00002d; stroke-width:0.8; stroke-opacity:1; fill:none\" points=\"\n",
       "  459.627,37.136 459.627,40.117 491.05,40.117 491.05,37.136 459.627,37.136 \n",
       "  \"/>\n",
       "<polygon clip-path=\"url(#clip02)\" points=\"\n",
       "491.05,39.7527 491.05,40.117 522.472,40.117 522.472,39.7527 491.05,39.7527 491.05,39.7527 \n",
       "  \" fill=\"#00002d\" fill-opacity=\"1\"/>\n",
       "<polyline clip-path=\"url(#clip02)\" style=\"stroke:#00002d; stroke-width:0.8; stroke-opacity:1; fill:none\" points=\"\n",
       "  491.05,39.7527 491.05,40.117 522.472,40.117 522.472,39.7527 491.05,39.7527 \n",
       "  \"/>\n",
       "<polygon clip-path=\"url(#clip00)\" points=\"\n",
       "36.9926,369.674 536.613,369.674 536.613,44.054 36.9926,44.054 \n",
       "  \" fill=\"#ffffff\" fill-opacity=\"1\"/>\n",
       "<defs>\n",
       "  <clipPath id=\"clip03\">\n",
       "    <rect x=\"36\" y=\"44\" width=\"500\" height=\"326\"/>\n",
       "  </clipPath>\n",
       "</defs>\n",
       "<polyline clip-path=\"url(#clip03)\" style=\"stroke:#00002d; stroke-width:0.8; stroke-opacity:1; fill:none\" points=\"\n",
       "  36.9926,369.674 536.613,369.674 \n",
       "  \"/>\n",
       "<polyline clip-path=\"url(#clip03)\" style=\"stroke:#00002d; stroke-width:0.8; stroke-opacity:1; fill:none\" points=\"\n",
       "  82.5554,369.674 82.5554,364.79 \n",
       "  \"/>\n",
       "<polyline clip-path=\"url(#clip03)\" style=\"stroke:#00002d; stroke-width:0.8; stroke-opacity:1; fill:none\" points=\"\n",
       "  239.669,369.674 239.669,364.79 \n",
       "  \"/>\n",
       "<polyline clip-path=\"url(#clip03)\" style=\"stroke:#00002d; stroke-width:0.8; stroke-opacity:1; fill:none\" points=\"\n",
       "  396.782,369.674 396.782,364.79 \n",
       "  \"/>\n",
       "<polyline clip-path=\"url(#clip03)\" style=\"stroke:#00002d; stroke-width:0.8; stroke-opacity:1; fill:none\" points=\"\n",
       "  36.9926,369.674 36.9926,44.054 \n",
       "  \"/>\n",
       "<polyline clip-path=\"url(#clip03)\" style=\"stroke:#00002d; stroke-width:0.8; stroke-opacity:1; fill:none\" points=\"\n",
       "  36.9926,311.955 44.4869,311.955 \n",
       "  \"/>\n",
       "<polyline clip-path=\"url(#clip03)\" style=\"stroke:#00002d; stroke-width:0.8; stroke-opacity:1; fill:none\" points=\"\n",
       "  36.9926,247.284 44.4869,247.284 \n",
       "  \"/>\n",
       "<polyline clip-path=\"url(#clip03)\" style=\"stroke:#00002d; stroke-width:0.8; stroke-opacity:1; fill:none\" points=\"\n",
       "  36.9926,182.612 44.4869,182.612 \n",
       "  \"/>\n",
       "<polyline clip-path=\"url(#clip03)\" style=\"stroke:#00002d; stroke-width:0.8; stroke-opacity:1; fill:none\" points=\"\n",
       "  36.9926,117.941 44.4869,117.941 \n",
       "  \"/>\n",
       "<polyline clip-path=\"url(#clip03)\" style=\"stroke:#00002d; stroke-width:0.8; stroke-opacity:1; fill:none\" points=\"\n",
       "  36.9926,53.2697 44.4869,53.2697 \n",
       "  \"/>\n",
       "<g clip-path=\"url(#clip00)\">\n",
       "<text style=\"fill:#00002d; fill-opacity:1; font-family:Arial,Helvetica Neue,Helvetica,sans-serif; font-size:12; text-anchor:middle;\" transform=\"rotate(0, 82.5554, 381.674)\" x=\"82.5554\" y=\"381.674\">2.5</text>\n",
       "</g>\n",
       "<g clip-path=\"url(#clip00)\">\n",
       "<text style=\"fill:#00002d; fill-opacity:1; font-family:Arial,Helvetica Neue,Helvetica,sans-serif; font-size:12; text-anchor:middle;\" transform=\"rotate(0, 239.669, 381.674)\" x=\"239.669\" y=\"381.674\">5.0</text>\n",
       "</g>\n",
       "<g clip-path=\"url(#clip00)\">\n",
       "<text style=\"fill:#00002d; fill-opacity:1; font-family:Arial,Helvetica Neue,Helvetica,sans-serif; font-size:12; text-anchor:middle;\" transform=\"rotate(0, 396.782, 381.674)\" x=\"396.782\" y=\"381.674\">7.5</text>\n",
       "</g>\n",
       "<g clip-path=\"url(#clip00)\">\n",
       "<text style=\"fill:#00002d; fill-opacity:1; font-family:Arial,Helvetica Neue,Helvetica,sans-serif; font-size:12; text-anchor:end;\" transform=\"rotate(0, 35.7926, 316.455)\" x=\"35.7926\" y=\"316.455\">2</text>\n",
       "</g>\n",
       "<g clip-path=\"url(#clip00)\">\n",
       "<text style=\"fill:#00002d; fill-opacity:1; font-family:Arial,Helvetica Neue,Helvetica,sans-serif; font-size:12; text-anchor:end;\" transform=\"rotate(0, 35.7926, 251.784)\" x=\"35.7926\" y=\"251.784\">4</text>\n",
       "</g>\n",
       "<g clip-path=\"url(#clip00)\">\n",
       "<text style=\"fill:#00002d; fill-opacity:1; font-family:Arial,Helvetica Neue,Helvetica,sans-serif; font-size:12; text-anchor:end;\" transform=\"rotate(0, 35.7926, 187.112)\" x=\"35.7926\" y=\"187.112\">6</text>\n",
       "</g>\n",
       "<g clip-path=\"url(#clip00)\">\n",
       "<text style=\"fill:#00002d; fill-opacity:1; font-family:Arial,Helvetica Neue,Helvetica,sans-serif; font-size:12; text-anchor:end;\" transform=\"rotate(0, 35.7926, 122.441)\" x=\"35.7926\" y=\"122.441\">8</text>\n",
       "</g>\n",
       "<g clip-path=\"url(#clip00)\">\n",
       "<text style=\"fill:#00002d; fill-opacity:1; font-family:Arial,Helvetica Neue,Helvetica,sans-serif; font-size:12; text-anchor:end;\" transform=\"rotate(0, 35.7926, 57.7697)\" x=\"35.7926\" y=\"57.7697\">10</text>\n",
       "</g>\n",
       "<g clip-path=\"url(#clip00)\">\n",
       "<text style=\"fill:#00002d; fill-opacity:1; font-family:Arial,Helvetica Neue,Helvetica,sans-serif; font-size:16; text-anchor:start;\" transform=\"rotate(0, 232.083, 392.13)\" x=\"232.083\" y=\"392.13\">adjusted</text>\n",
       "</g>\n",
       "<g clip-path=\"url(#clip00)\">\n",
       "<text style=\"fill:#00002d; fill-opacity:1; font-family:Arial,Helvetica Neue,Helvetica,sans-serif; font-size:14; text-anchor:start;\" transform=\"rotate(0, 293.683, 396.815)\" x=\"293.683\" y=\"396.815\">average</text>\n",
       "</g>\n",
       "<g clip-path=\"url(#clip00)\">\n",
       "<text style=\"fill:#00002d; fill-opacity:1; font-family:Arial,Helvetica Neue,Helvetica,sans-serif; font-size:16; text-anchor:start;\" transform=\"rotate(-90, 14.7312, 238.899)\" x=\"14.7312\" y=\"238.899\">user</text>\n",
       "</g>\n",
       "<g clip-path=\"url(#clip00)\">\n",
       "<text style=\"fill:#00002d; fill-opacity:1; font-family:Arial,Helvetica Neue,Helvetica,sans-serif; font-size:14; text-anchor:start;\" transform=\"rotate(-90, 19.4164, 207.203)\" x=\"19.4164\" y=\"207.203\">score</text>\n",
       "</g>\n",
       "<g clip-path=\"url(#clip03)\">\n",
       "<image width=\"499\" height=\"325\" xlink:href=\"data:;base64,\n",
       "iVBORw0KGgoAAAANSUhEUgAAAfMAAAFFCAYAAAD4nAQjAAAKhklEQVR4nO3dzapld17G8Wedtc9b\n",
       "VWmqY86x06Yb09oKIo4aFKQHgiAITk5dgXOvShoaaVK34EjQiQYyUETaBpsiVqWTSlKp17PPdlBE\n",
       "bRAEa/BbD34+V/Cw3r77P9pL4H+wf3T/ML1hvbhapjfwXzwTsF1H0wMAgDcj5gBQTswBoJyYA0A5\n",
       "MQeAcmIOAOXEHADKiTkAlBNzACgn5gBQTswBoJyYA0A5MQeAcmIOAOXEHADKiTkAlBNzACi3TA/Y\n",
       "kv2j+4fpDZtxmL8U6+W98efTM/Hf7PfTC3J49mx6QpZ1Nz0hN48/n56QJDl65+3pCTl89XR6Qnbf\n",
       "+/Pxb5WTOQCUE3MAKCfmAFBOzAGgnJgDQDkxB4ByYg4A5cQcAMqJOQCUE3MAKCfmAFBOzAGgnJgD\n",
       "QDkxB4ByYg4A5cQcAMqN/6H6llz/618epjfcfPp4ekKS5PDFk+kJuX7waHpCnvzDg+kJ+fij8ccy\n",
       "SfLZ4+PpCfn86W56Qn7+bJ2ekN/9tafTE5Ikv/knJ9MTcuePfm96QtbfeH96gpM5ALQTcwAoJ+YA\n",
       "UE7MAaCcmANAOTEHgHJiDgDlxBwAyok5AJQTcwAoJ+YAUE7MAaCcmANAOTEHgHJiDgDlxBwAyu2m\n",
       "B3xt/+j+YXpDXryYXpDl9GR6wmtn8zsOL15NT8jZe780PSHfvvtyekKS5Pqv59+Pl6/mzx9Pv5z/\n",
       "bH74b7enJyRJ3v7w8fSE3PnjdXpCcn09vcDJHADaiTkAlBNzACgn5gBQTswBoJyYA0A5MQeAcmIO\n",
       "AOXEHADKiTkAlBNzACgn5gBQTswBoJyYA0A5MQeAcmIOAOV20wO+tl5cLdMbrn/6w8P0hmVdpyck\n",
       "SW6evZiekOV4/vH84qPPpifk+vn0gtf+9id3pyfk75/NX4z35x/LfON4esFrv/zr80OW4/kNOZo/\n",
       "F88vAADeiJgDQDkxB4ByYg4A5cQcAMqJOQCUE3MAKCfmAFBOzAGgnJgDQDkxB4ByYg4A5cQcAMqJ\n",
       "OQCUE3MAKCfmAFBuNz3ga/tH9w/TG/Ls+fSCHHbbuCX7x19OT8jTf/z36Ql59tn0guSf/+X29IQk\n",
       "yZfX0wuSf3r5aHpC1lxOT8gP3pv/XCbJ6bfuTE/Icut8ekJyNH8unl8AALwRMQeAcmIOAOXEHADK\n",
       "iTkAlBNzACgn5gBQTswBoJyYA0A5MQeAcmIOAOXEHADKiTkAlBNzACgn5gBQTswBoNxuesDX1our\n",
       "ZXrD/mc/OkxvuHn4yfSEJMnN4yfTE3K4Gb8d+buP3pqekL958mp6QpLkwf7T6Qn5/um70xPyF384\n",
       "/268+6fz1yFJTn7nu9MTkpPj6QVZL++N98vJHADKiTkAlBNzACgn5gBQTswBoJyYA0A5MQeAcmIO\n",
       "AOXEHADKiTkAlBNzACgn5gBQTswBoJyYA0A5MQeAcmIOAOV2+0f3D9MjkmS9uBr/c/fDV0+nJ+Tm\n",
       "2fPpCUmSVw+/nJ6Qjz/cT0/Iwxfjj2X+7HJ+Q5K8dft8ekK++d6T6Ql55/ffmp6Q3XuX0xOSJOu3\n",
       "vjk9ITk/m16wCU7mAFBOzAGgnJgDQDkxB4ByYg4A5cQcAMqJOQCUE3MAKCfmAFBOzAGgnJgDQDkx\n",
       "B4ByYg4A5cQcAMqJOQCUE3MAKLdbL66W6RFJsn/4wWF6w+HzL6YnZDnayO+ro/nH4midXpD8wbef\n",
       "Tk/I2dnN9IQkybu/vZ+ekPVs/qE4//5vTU/I7v3vTE947eR4ekG20rBpGykHAPB/JeYAUE7MAaCc\n",
       "mANAOTEHgHJiDgDlxBwAyok5AJQTcwAoJ+YAUE7MAaCcmANAOTEHgHJiDgDlxBwAyok5AJTbTQ/Y\n",
       "ksOTr6Yn5OVPHkxPSJK8+uT59ITsr5fpCfneDw7TE3J892x6QpJk986d6QnZvfv29IQs56fTE5Kj\n",
       "+XcjSbKu0wuyf3R//CVdL67Gb4iTOQCUE3MAKCfmAFBOzAGgnJgDQDkxB4ByYg4A5cQcAMqJOQCU\n",
       "E3MAKCfmAFBOzAGgnJgDQDkxB4ByYg4A5cQcAMqJOQCU2+0f3T9Mj0iS7PfTC5KjZXpB1rt3pick\n",
       "SY7ffjI9Id+9d3t6QpbT4+kJm3km1l/9lekJWe7cmp6Q5fxsekJys43P9hasF1fzH+4NcDIHgHJi\n",
       "DgDlxBwAyok5AJQTcwAoJ+YAUE7MAaCcmANAOTEHgHJiDgDlxBwAyok5AJQTcwAoJ+YAUE7MAaCc\n",
       "mANAud1W/th9/7MfHaY3LHduT0/I0a2z6QlJkpPvvDM9IevdO9MTcvT2W9MTcvSN+Q1JcvPJp9MT\n",
       "sty+NT0hWTZwBjrfxneC7djAUwkAvAkxB4ByYg4A5cQcAMqJOQCUE3MAKCfmAFBOzAGgnJgDQDkx\n",
       "B4ByYg4A5cQcAMqJOQCUE3MAKCfmAFBOzAGg3DI9YEuuf/rDw/SGm59/Oj3htZcvpxdkOTubnpCc\n",
       "nkwvyHJ8PD0hSbKcb+F+nE4vSA7jn4msl/d8u/kFTuYAUE7MAaCcmANAOTEHgHJiDgDlxBwAyok5\n",
       "AJQTcwAoJ+YAUE7MAaCcmANAOTEHgHJiDgDlxBwAyok5AJQTcwAot5k/uN8/+KvD9Iabx59PT8jh\n",
       "yVfTE5Iky+nJ9ITk+Hh6wSauw3J6Oj0hSXJ48WJ6Qpbbt6cnJOs6vWAz1ourzTTk/zsncwAoJ+YA\n",
       "UE7MAaCcmANAOTEHgHJiDgDlxBwAyok5AJQTcwAoJ+YAUE7MAaCcmANAOTEHgHJiDgDlxBwAyok5\n",
       "AJTb7R/dP0yPSJLDkyfTE5IXL6cXJOs6vSBJspycTE9Izs+nFyT76+kFyRbuRZLlaAO//TewYb24\n",
       "WqY3bMX+4Qfj/Vgv77kfcTIHgHpiDgDlxBwAyok5AJQTcwAoJ+YAUE7MAaCcmANAOTEHgHJiDgDl\n",
       "xBwAyok5AJQTcwAoJ+YAUE7MAaCcmANAuWX/8Y/H/1w+SfLy1fSCHJ49m56Q7NbpBa+tu+kFWc5O\n",
       "pyckRxv4vfv8xfSC17bwbB4fTy9IDvOfzPXy3jK9gW3ZwJcKAHgTYg4A5cQcAMqJOQCUE3MAKCfm\n",
       "AFBOzAGgnJgDQDkxB4ByYg4A5cQcAMqJOQCUE3MAKCfmAFBOzAGgnJgDQLld1nV6w2sn0wOSZXpA\n",
       "kuy2cT8OL19NT8jh+YvpCVlu35qekJydTi94bdnAG3I4TC/IenlvAxcCfpGTOQCUE3MAKCfmAFBO\n",
       "zAGgnJgDQDkxB4ByYg4A5cQcAMqJOQCUE3MAKCfmAFBOzAGgnJgDQDkxB4ByYg4A5cQcAMrt1our\n",
       "ZXpEkuw//vFhesPh5mZ6Qpaj4+kJSZLlaAO/84428WjOWzZyHQ7jr2iygXcUtmgDX2wA4E2IOQCU\n",
       "E3MAKCfmAFBOzAGgnJgDQDkxB4ByYg4A5cQcAMqJOQCUE3MAKCfmAFBOzAGgnJgDQDkxB4ByYg4A\n",
       "5XbTA/7Tuk4vyHLrfHpC1st7y/SGJNk//OAwvSHL/KVYL67mRwD8L5zMAaCcmANAOTEHgHJiDgDl\n",
       "xBwAyok5AJQTcwAoJ+YAUE7MAaCcmANAOTEHgHJiDgDlxBwAyok5AJQTcwAoJ+YAUO4/AGTgGzsi\n",
       "YDG1AAAAAElFTkSuQmCC\n",
       "\" transform=\"translate(36, 44)\"/>\n",
       "</g>\n",
       "<polygon clip-path=\"url(#clip00)\" points=\"\n",
       "540.55,369.674 596.063,369.674 596.063,44.054 540.55,44.054 \n",
       "  \" fill=\"#ffffff\" fill-opacity=\"1\"/>\n",
       "<defs>\n",
       "  <clipPath id=\"clip04\">\n",
       "    <rect x=\"540\" y=\"44\" width=\"56\" height=\"326\"/>\n",
       "  </clipPath>\n",
       "</defs>\n",
       "<polygon clip-path=\"url(#clip04)\" points=\"\n",
       "540.879,369.528 540.55,369.528 540.55,369.382 540.879,369.382 540.879,369.528 540.879,369.528 \n",
       "  \" fill=\"#00002d\" fill-opacity=\"1\"/>\n",
       "<polyline clip-path=\"url(#clip04)\" style=\"stroke:#00002d; stroke-width:0.8; stroke-opacity:1; fill:none\" points=\"\n",
       "  540.879,369.528 540.55,369.528 540.55,369.382 540.879,369.382 540.879,369.528 \n",
       "  \"/>\n",
       "<polygon clip-path=\"url(#clip04)\" points=\"\n",
       "542.25,369.382 540.55,369.382 540.55,369.235 542.25,369.235 542.25,369.382 542.25,369.382 \n",
       "  \" fill=\"#00002d\" fill-opacity=\"1\"/>\n",
       "<polyline clip-path=\"url(#clip04)\" style=\"stroke:#00002d; stroke-width:0.8; stroke-opacity:1; fill:none\" points=\"\n",
       "  542.25,369.382 540.55,369.382 540.55,369.235 542.25,369.235 542.25,369.382 \n",
       "  \"/>\n",
       "<polygon clip-path=\"url(#clip04)\" points=\"\n",
       "542.415,369.235 540.55,369.235 540.55,369.089 542.415,369.089 542.415,369.235 542.415,369.235 \n",
       "  \" fill=\"#00002d\" fill-opacity=\"1\"/>\n",
       "<polyline clip-path=\"url(#clip04)\" style=\"stroke:#00002d; stroke-width:0.8; stroke-opacity:1; fill:none\" points=\"\n",
       "  542.415,369.235 540.55,369.235 540.55,369.089 542.415,369.089 542.415,369.235 \n",
       "  \"/>\n",
       "<polygon clip-path=\"url(#clip04)\" points=\"\n",
       "543.512,369.089 540.55,369.089 540.55,368.943 543.512,368.943 543.512,369.089 543.512,369.089 \n",
       "  \" fill=\"#00002d\" fill-opacity=\"1\"/>\n",
       "<polyline clip-path=\"url(#clip04)\" style=\"stroke:#00002d; stroke-width:0.8; stroke-opacity:1; fill:none\" points=\"\n",
       "  543.512,369.089 540.55,369.089 540.55,368.943 543.512,368.943 543.512,369.089 \n",
       "  \"/>\n",
       "<polygon clip-path=\"url(#clip04)\" points=\"\n",
       "545.048,368.943 540.55,368.943 540.55,368.797 545.048,368.797 545.048,368.943 545.048,368.943 \n",
       "  \" fill=\"#00002d\" fill-opacity=\"1\"/>\n",
       "<polyline clip-path=\"url(#clip04)\" style=\"stroke:#00002d; stroke-width:0.8; stroke-opacity:1; fill:none\" points=\"\n",
       "  545.048,368.943 540.55,368.943 540.55,368.797 545.048,368.797 545.048,368.943 \n",
       "  \"/>\n",
       "<polygon clip-path=\"url(#clip04)\" points=\"\n",
       "545.706,368.797 540.55,368.797 540.55,368.65 545.706,368.65 545.706,368.797 545.706,368.797 \n",
       "  \" fill=\"#00002d\" fill-opacity=\"1\"/>\n",
       "<polyline clip-path=\"url(#clip04)\" style=\"stroke:#00002d; stroke-width:0.8; stroke-opacity:1; fill:none\" points=\"\n",
       "  545.706,368.797 540.55,368.797 540.55,368.65 545.706,368.65 545.706,368.797 \n",
       "  \"/>\n",
       "<polygon clip-path=\"url(#clip04)\" points=\"\n",
       "545.761,368.65 540.55,368.65 540.55,368.504 545.761,368.504 545.761,368.65 545.761,368.65 \n",
       "  \" fill=\"#00002d\" fill-opacity=\"1\"/>\n",
       "<polyline clip-path=\"url(#clip04)\" style=\"stroke:#00002d; stroke-width:0.8; stroke-opacity:1; fill:none\" points=\"\n",
       "  545.761,368.65 540.55,368.65 540.55,368.504 545.761,368.504 545.761,368.65 \n",
       "  \"/>\n",
       "<polygon clip-path=\"url(#clip04)\" points=\"\n",
       "550.862,368.504 540.55,368.504 540.55,368.358 550.862,368.358 550.862,368.504 550.862,368.504 \n",
       "  \" fill=\"#00002d\" fill-opacity=\"1\"/>\n",
       "<polyline clip-path=\"url(#clip04)\" style=\"stroke:#00002d; stroke-width:0.8; stroke-opacity:1; fill:none\" points=\"\n",
       "  550.862,368.504 540.55,368.504 540.55,368.358 550.862,368.358 550.862,368.504 \n",
       "  \"/>\n",
       "<polygon clip-path=\"url(#clip04)\" points=\"\n",
       "556.458,368.358 540.55,368.358 540.55,368.212 556.458,368.212 556.458,368.358 556.458,368.358 \n",
       "  \" fill=\"#00002d\" fill-opacity=\"1\"/>\n",
       "<polyline clip-path=\"url(#clip04)\" style=\"stroke:#00002d; stroke-width:0.8; stroke-opacity:1; fill:none\" points=\"\n",
       "  556.458,368.358 540.55,368.358 540.55,368.212 556.458,368.212 556.458,368.358 \n",
       "  \"/>\n",
       "<polygon clip-path=\"url(#clip04)\" points=\"\n",
       "565.838,368.212 540.55,368.212 540.55,368.065 565.838,368.065 565.838,368.212 565.838,368.212 \n",
       "  \" fill=\"#00002d\" fill-opacity=\"1\"/>\n",
       "<polyline clip-path=\"url(#clip04)\" style=\"stroke:#00002d; stroke-width:0.8; stroke-opacity:1; fill:none\" points=\"\n",
       "  565.838,368.212 540.55,368.212 540.55,368.065 565.838,368.065 565.838,368.212 \n",
       "  \"/>\n",
       "<polygon clip-path=\"url(#clip04)\" points=\"\n",
       "572.256,368.065 540.55,368.065 540.55,367.919 572.256,367.919 572.256,368.065 572.256,368.065 \n",
       "  \" fill=\"#00002d\" fill-opacity=\"1\"/>\n",
       "<polyline clip-path=\"url(#clip04)\" style=\"stroke:#00002d; stroke-width:0.8; stroke-opacity:1; fill:none\" points=\"\n",
       "  572.256,368.065 540.55,368.065 540.55,367.919 572.256,367.919 572.256,368.065 \n",
       "  \"/>\n",
       "<polygon clip-path=\"url(#clip04)\" points=\"\n",
       "581.362,367.919 540.55,367.919 540.55,367.773 581.362,367.773 581.362,367.919 581.362,367.919 \n",
       "  \" fill=\"#00002d\" fill-opacity=\"1\"/>\n",
       "<polyline clip-path=\"url(#clip04)\" style=\"stroke:#00002d; stroke-width:0.8; stroke-opacity:1; fill:none\" points=\"\n",
       "  581.362,367.919 540.55,367.919 540.55,367.773 581.362,367.773 581.362,367.919 \n",
       "  \"/>\n",
       "<polygon clip-path=\"url(#clip04)\" points=\"\n",
       "592.278,367.773 540.55,367.773 540.55,367.627 592.278,367.627 592.278,367.773 592.278,367.773 \n",
       "  \" fill=\"#00002d\" fill-opacity=\"1\"/>\n",
       "<polyline clip-path=\"url(#clip04)\" style=\"stroke:#00002d; stroke-width:0.8; stroke-opacity:1; fill:none\" points=\"\n",
       "  592.278,367.773 540.55,367.773 540.55,367.627 592.278,367.627 592.278,367.773 \n",
       "  \"/>\n",
       "<polygon clip-path=\"url(#clip04)\" points=\"\n",
       "596.063,367.627 540.55,367.627 540.55,367.48 596.063,367.48 596.063,367.627 596.063,367.627 \n",
       "  \" fill=\"#00002d\" fill-opacity=\"1\"/>\n",
       "<polyline clip-path=\"url(#clip04)\" style=\"stroke:#00002d; stroke-width:0.8; stroke-opacity:1; fill:none\" points=\"\n",
       "  596.063,367.627 540.55,367.627 540.55,367.48 596.063,367.48 596.063,367.627 \n",
       "  \"/>\n",
       "<polygon clip-path=\"url(#clip04)\" points=\"\n",
       "591.894,367.48 540.55,367.48 540.55,367.334 591.894,367.334 591.894,367.48 591.894,367.48 \n",
       "  \" fill=\"#00002d\" fill-opacity=\"1\"/>\n",
       "<polyline clip-path=\"url(#clip04)\" style=\"stroke:#00002d; stroke-width:0.8; stroke-opacity:1; fill:none\" points=\"\n",
       "  591.894,367.48 540.55,367.48 540.55,367.334 591.894,367.334 591.894,367.48 \n",
       "  \"/>\n",
       "<polygon clip-path=\"url(#clip04)\" points=\"\n",
       "584.653,367.334 540.55,367.334 540.55,367.188 584.653,367.188 584.653,367.334 584.653,367.334 \n",
       "  \" fill=\"#00002d\" fill-opacity=\"1\"/>\n",
       "<polyline clip-path=\"url(#clip04)\" style=\"stroke:#00002d; stroke-width:0.8; stroke-opacity:1; fill:none\" points=\"\n",
       "  584.653,367.334 540.55,367.334 540.55,367.188 584.653,367.188 584.653,367.334 \n",
       "  \"/>\n",
       "<polygon clip-path=\"url(#clip04)\" points=\"\n",
       "585.202,367.188 540.55,367.188 540.55,367.042 585.202,367.042 585.202,367.188 585.202,367.188 \n",
       "  \" fill=\"#00002d\" fill-opacity=\"1\"/>\n",
       "<polyline clip-path=\"url(#clip04)\" style=\"stroke:#00002d; stroke-width:0.8; stroke-opacity:1; fill:none\" points=\"\n",
       "  585.202,367.188 540.55,367.188 540.55,367.042 585.202,367.042 585.202,367.188 \n",
       "  \"/>\n",
       "<polygon clip-path=\"url(#clip04)\" points=\"\n",
       "543.402,367.042 540.55,367.042 540.55,366.895 543.402,366.895 543.402,367.042 543.402,367.042 \n",
       "  \" fill=\"#00002d\" fill-opacity=\"1\"/>\n",
       "<polyline clip-path=\"url(#clip04)\" style=\"stroke:#00002d; stroke-width:0.8; stroke-opacity:1; fill:none\" points=\"\n",
       "  543.402,367.042 540.55,367.042 540.55,366.895 543.402,366.895 543.402,367.042 \n",
       "  \"/>\n",
       "<polygon clip-path=\"url(#clip04)\" points=\"\n",
       "540.659,366.895 540.55,366.895 540.55,366.749 540.659,366.749 540.659,366.895 540.659,366.895 \n",
       "  \" fill=\"#00002d\" fill-opacity=\"1\"/>\n",
       "<polyline clip-path=\"url(#clip04)\" style=\"stroke:#00002d; stroke-width:0.8; stroke-opacity:1; fill:none\" points=\"\n",
       "  540.659,366.895 540.55,366.895 540.55,366.749 540.659,366.749 540.659,366.895 \n",
       "  \"/>\n",
       "</svg>\n"
      ]
     },
     "execution_count": 27,
     "metadata": {},
     "output_type": "execute_result"
    },
    {
     "name": "stderr",
     "output_type": "stream",
     "text": [
      "\n",
      "\u001b[1m\u001b[34mINFO: binning = auto\n",
      "\u001b[0m"
     ]
    }
   ],
   "source": [
    "a = marginalhist(basics_2, :adjusted_average, :user_score, c=:matter)"
   ]
  },
  {
   "cell_type": "markdown",
   "metadata": {},
   "source": [
    "## Who are the best directors?\n",
    "We're also going to shrink the ratings here, to prevent directors with a single movie from taking it all. We're going to assume that the prior distribution of ratings is normal with a known variance. NB: we estimate that variance using the entire dataset's variance; and I'm not sure how much this makes sense.\n",
    "Anyway, the conjugate will be normal as well and we can estimate our posterior mean using an empirical prior."
   ]
  },
  {
   "cell_type": "code",
   "execution_count": 28,
   "metadata": {
    "collapsed": false
   },
   "outputs": [],
   "source": [
    "director_cols = [:id, :director]\n",
    "directors = readtable(\"../data/director.csv\", names = director_cols, header=false);"
   ]
  },
  {
   "cell_type": "code",
   "execution_count": 51,
   "metadata": {
    "collapsed": false
   },
   "outputs": [
    {
     "data": {
      "text/plain": [
       "EmpiricalBayes.NormalNormal{String}(Dict(\"Rama Burshtein\"=>1,\"Zhang Ke Jia\"=>6,\"Shunji Iwai\"=>2,\"Matthew Kaufman\"=>1,\"David L. Cunningham\"=>1,\"Wally Pfister\"=>1,\"Kevin Tancharoen\"=>1,\"Lucrecia Martel\"=>3,\"James Moll\"=>1,\"Grant Heslov\"=>1…),Distributions.Normal{Float64}(μ=5.919676106597595, σ=1.205234392730886),Dict(\"Rama Burshtein\"=>Distributions.Normal{Float64}(μ=7.46621, σ=1.30531),\"Zhang Ke Jia\"=>Distributions.Normal{Float64}(μ=7.20598, σ=1.30531),\"Shunji Iwai\"=>Distributions.Normal{Float64}(μ=6.37063, σ=1.30531),\"Matthew Kaufman\"=>Distributions.Normal{Float64}(μ=6.15535, σ=1.30531),\"David L. Cunningham\"=>Distributions.Normal{Float64}(μ=4.73945, σ=1.30531),\"Wally Pfister\"=>Distributions.Normal{Float64}(μ=4.72431, σ=1.30531),\"Kevin Tancharoen\"=>Distributions.Normal{Float64}(μ=4.65052, σ=1.30531),\"Lucrecia Martel\"=>Distributions.Normal{Float64}(μ=7.34511, σ=1.30531),\"James Moll\"=>Distributions.Normal{Float64}(μ=4.41748, σ=1.30531),\"Grant Heslov\"=>Distributions.Normal{Float64}(μ=6.05547, σ=1.30531)…),Dict(\"Rama Burshtein\"=>Distributions.Normal{Float64}(μ=6.63139, σ=0.885498),\"Zhang Ke Jia\"=>Distributions.Normal{Float64}(μ=6.99564, σ=0.487377),\"Shunji Iwai\"=>Distributions.Normal{Float64}(μ=6.20392, σ=0.732793),\"Matthew Kaufman\"=>Distributions.Normal{Float64}(μ=6.02813, σ=0.885498),\"David L. Cunningham\"=>Distributions.Normal{Float64}(μ=5.37653, σ=0.885498),\"Wally Pfister\"=>Distributions.Normal{Float64}(μ=5.36957, σ=0.885498),\"Kevin Tancharoen\"=>Distributions.Normal{Float64}(μ=5.33561, σ=0.885498),\"Lucrecia Martel\"=>Distributions.Normal{Float64}(μ=6.94444, σ=0.638987),\"James Moll\"=>Distributions.Normal{Float64}(μ=5.22836, σ=0.885498),\"Grant Heslov\"=>Distributions.Normal{Float64}(μ=5.98217, σ=0.885498)…))"
      ]
     },
     "execution_count": 51,
     "metadata": {},
     "output_type": "execute_result"
    }
   ],
   "source": [
    "nn = EmpiricalBayes.normal_from_df(director_basics, :director, :adjusted_average)"
   ]
  },
  {
   "cell_type": "code",
   "execution_count": 52,
   "metadata": {
    "collapsed": false
   },
   "outputs": [
    {
     "data": {
      "text/plain": [
       "adjusted_director_rating (generic function with 1 method)"
      ]
     },
     "execution_count": 52,
     "metadata": {},
     "output_type": "execute_result"
    }
   ],
   "source": [
    "adjusted_director_rating(name) = try nn.posteriors[name].μ catch return(NA) end"
   ]
  },
  {
   "cell_type": "code",
   "execution_count": 80,
   "metadata": {
    "collapsed": false
   },
   "outputs": [
    {
     "data": {
      "text/plain": [
       "Distributions.Normal{Float64}(μ=6.920311468839487, σ=0.7327932609549568)"
      ]
     },
     "execution_count": 80,
     "metadata": {},
     "output_type": "execute_result"
    }
   ],
   "source": [
    "nn.posteriors[\"Steve McQueen\"]"
   ]
  },
  {
   "cell_type": "code",
   "execution_count": 56,
   "metadata": {
    "collapsed": false
   },
   "outputs": [
    {
     "data": {
      "text/plain": [
       "3713-element DataArrays.DataArray{Any,1}:\n",
       " 7.36043\n",
       " 7.34929\n",
       " 7.31158\n",
       " 7.2583 \n",
       " 7.23017\n",
       " 7.69372\n",
       " 7.20664\n",
       " 7.20004\n",
       " 7.18942\n",
       " 7.16355\n",
       " 7.15756\n",
       " 7.14749\n",
       " 7.13773\n",
       " ⋮      \n",
       " 4.44949\n",
       " 4.40437\n",
       " 4.39183\n",
       " 4.36517\n",
       " 4.36517\n",
       " 4.36318\n",
       " 4.36318\n",
       " 4.33417\n",
       " 4.33334\n",
       " 4.32646\n",
       " 4.21053\n",
       " 4.21053"
      ]
     },
     "execution_count": 56,
     "metadata": {},
     "output_type": "execute_result"
    }
   ],
   "source": [
    "director_scores[:adjusted_director_rating] = map(adjusted_director_rating, director_scores[:director])"
   ]
  },
  {
   "cell_type": "code",
   "execution_count": 62,
   "metadata": {
    "collapsed": false
   },
   "outputs": [
    {
     "data": {
      "text/html": [
       "<table class=\"data-frame\"><thead><tr><th></th><th>director</th><th>score</th><th>user_score</th><th>adjusted_director_rating</th></tr></thead><tbody><tr><th>1</th><td>Lee Unkrich</td><td>8.43151357052462</td><td>8.775</td><td>7.861956555327411</td></tr><tr><th>2</th><td>Asghar Farhadi</td><td>8.395832474261493</td><td>8.3</td><td>7.834366117388497</td></tr><tr><th>3</th><td>Hayao Miyazaki</td><td>8.171001244644643</td><td>8.5</td><td>7.743212232538106</td></tr><tr><th>4</th><td>Damien Chazelle</td><td>8.734170181101062</td><td>8.65</td><td>7.69372251675656</td></tr><tr><th>5</th><td>Alexander Payne</td><td>7.917080895091959</td><td>7.171428571428572</td><td>7.63041787207395</td></tr><tr><th>6</th><td>John Lasseter</td><td>8.113178433566734</td><td>8.225000000000001</td><td>7.615803640763272</td></tr><tr><th>7</th><td>Spike Jonze</td><td>8.101017037330358</td><td>8.025</td><td>7.606399830812034</td></tr><tr><th>8</th><td>Paul Thomas Anderson</td><td>7.884742391083265</td><td>6.457142857142856</td><td>7.602720517106457</td></tr><tr><th>9</th><td>Joshua Oppenheimer</td><td>8.501108662429035</td><td>8.3</td><td>7.546817979173104</td></tr><tr><th>10</th><td>Nick Park</td><td>8.48497718799668</td><td>8.2</td><td>7.53664990507178</td></tr><tr><th>11</th><td>Brad Bird</td><td>7.899531350918139</td><td>8.1</td><td>7.523326108606252</td></tr><tr><th>12</th><td>Pete Docter</td><td>7.993019036649437</td><td>8.5</td><td>7.522890285215672</td></tr><tr><th>13</th><td>Isao Takahata</td><td>8.399631612623892</td><td>8.5</td><td>7.4828544421554986</td></tr><tr><th>14</th><td>Krzysztof Kieslowski</td><td>7.921736860259541</td><td>9.05</td><td>7.4677712818831266</td></tr><tr><th>15</th><td>Richard Linklater</td><td>7.584881634298086</td><td>7.5200000000000005</td><td>7.464110417888399</td></tr><tr><th>16</th><td>Andrew Haigh</td><td>8.313894328327274</td><td>7.95</td><td>7.42881207525159</td></tr><tr><th>17</th><td>Andrei Zvyagintsev</td><td>8.302274777478665</td><td>7.800000000000001</td><td>7.421487980076768</td></tr><tr><th>18</th><td>Pawel Pawlikowski</td><td>8.289307166728408</td><td>8.15</td><td>7.413314168837215</td></tr><tr><th>19</th><td>Ramin Bahrani</td><td>7.985516932924663</td><td>7.633333333333333</td><td>7.404836336209554</td></tr><tr><th>20</th><td>Steve James</td><td>7.652894294571189</td><td>7.514285714285713</td><td>7.404146735650581</td></tr></tbody></table>"
      ],
      "text/plain": [
       "20×4 DataFrames.DataFrame\n",
       "│ Row │ director               │ score   │ user_score │\n",
       "├─────┼────────────────────────┼─────────┼────────────┤\n",
       "│ 1   │ \"Lee Unkrich\"          │ 8.43151 │ 8.775      │\n",
       "│ 2   │ \"Asghar Farhadi\"       │ 8.39583 │ 8.3        │\n",
       "│ 3   │ \"Hayao Miyazaki\"       │ 8.171   │ 8.5        │\n",
       "│ 4   │ \"Damien Chazelle\"      │ 8.73417 │ 8.65       │\n",
       "│ 5   │ \"Alexander Payne\"      │ 7.91708 │ 7.17143    │\n",
       "│ 6   │ \"John Lasseter\"        │ 8.11318 │ 8.225      │\n",
       "│ 7   │ \"Spike Jonze\"          │ 8.10102 │ 8.025      │\n",
       "│ 8   │ \"Paul Thomas Anderson\" │ 7.88474 │ 6.45714    │\n",
       "│ 9   │ \"Joshua Oppenheimer\"   │ 8.50111 │ 8.3        │\n",
       "│ 10  │ \"Nick Park\"            │ 8.48498 │ 8.2        │\n",
       "│ 11  │ \"Brad Bird\"            │ 7.89953 │ 8.1        │\n",
       "│ 12  │ \"Pete Docter\"          │ 7.99302 │ 8.5        │\n",
       "│ 13  │ \"Isao Takahata\"        │ 8.39963 │ 8.5        │\n",
       "│ 14  │ \"Krzysztof Kieslowski\" │ 7.92174 │ 9.05       │\n",
       "│ 15  │ \"Richard Linklater\"    │ 7.58488 │ 7.52       │\n",
       "│ 16  │ \"Andrew Haigh\"         │ 8.31389 │ 7.95       │\n",
       "│ 17  │ \"Andrei Zvyagintsev\"   │ 8.30227 │ 7.8        │\n",
       "│ 18  │ \"Pawel Pawlikowski\"    │ 8.28931 │ 8.15       │\n",
       "│ 19  │ \"Ramin Bahrani\"        │ 7.98552 │ 7.63333    │\n",
       "│ 20  │ \"Steve James\"          │ 7.65289 │ 7.51429    │\n",
       "\n",
       "│ Row │ adjusted_director_rating │\n",
       "├─────┼──────────────────────────┤\n",
       "│ 1   │ 7.86196                  │\n",
       "│ 2   │ 7.83437                  │\n",
       "│ 3   │ 7.74321                  │\n",
       "│ 4   │ 7.69372                  │\n",
       "│ 5   │ 7.63042                  │\n",
       "│ 6   │ 7.6158                   │\n",
       "│ 7   │ 7.6064                   │\n",
       "│ 8   │ 7.60272                  │\n",
       "│ 9   │ 7.54682                  │\n",
       "│ 10  │ 7.53665                  │\n",
       "│ 11  │ 7.52333                  │\n",
       "│ 12  │ 7.52289                  │\n",
       "│ 13  │ 7.48285                  │\n",
       "│ 14  │ 7.46777                  │\n",
       "│ 15  │ 7.46411                  │\n",
       "│ 16  │ 7.42881                  │\n",
       "│ 17  │ 7.42149                  │\n",
       "│ 18  │ 7.41331                  │\n",
       "│ 19  │ 7.40484                  │\n",
       "│ 20  │ 7.40415                  │"
      ]
     },
     "execution_count": 62,
     "metadata": {},
     "output_type": "execute_result"
    }
   ],
   "source": [
    "sort!(director_scores, cols=[:adjusted_director_rating], rev=true)[1:20, :]"
   ]
  },
  {
   "cell_type": "code",
   "execution_count": 79,
   "metadata": {
    "collapsed": false
   },
   "outputs": [
    {
     "data": {
      "text/html": [
       "<table class=\"data-frame\"><thead><tr><th></th><th>director</th><th>score</th><th>user_score</th><th>adjusted_director_rating</th></tr></thead><tbody></tbody></table>"
      ],
      "text/plain": [
       "0×4 DataFrames.DataFrame\n"
      ]
     },
     "execution_count": 79,
     "metadata": {},
     "output_type": "execute_result"
    }
   ],
   "source": [
    "director_scores[director_scores[:director] .== \"Steve McQueen\", :]"
   ]
  },
  {
   "cell_type": "code",
   "execution_count": 81,
   "metadata": {
    "collapsed": false
   },
   "outputs": [
    {
     "data": {
      "text/plain": [
       "0-element DataArrays.DataArray{String,1}"
      ]
     },
     "execution_count": 81,
     "metadata": {},
     "output_type": "execute_result"
    }
   ],
   "source": [
    "director_basics[director_basics[:id] .== \"\", :][:director]"
   ]
  },
  {
   "cell_type": "code",
   "execution_count": 93,
   "metadata": {
    "collapsed": false
   },
   "outputs": [
    {
     "name": "stderr",
     "output_type": "stream",
     "text": [
      "WARNING: imported binding for df overwritten in module Main\n"
     ]
    }
   ],
   "source": [
    "df = DataFrame(director = collect(keys(nn.posteriors)), score = collect(Base.values(nn.posteriors)));"
   ]
  },
  {
   "cell_type": "code",
   "execution_count": 95,
   "metadata": {
    "collapsed": false
   },
   "outputs": [
    {
     "data": {
      "text/plain": [
       "4113-element DataArrays.DataArray{Any,1}:\n",
       " 6.63139\n",
       " 6.99564\n",
       " 6.20392\n",
       " 6.02813\n",
       " 5.37653\n",
       " 5.36957\n",
       " 5.33561\n",
       " 6.94444\n",
       " 5.22836\n",
       " 5.98217\n",
       " 4.33417\n",
       " 6.10811\n",
       " 6.51228\n",
       " ⋮      \n",
       " 6.44324\n",
       " 5.80481\n",
       " 5.69018\n",
       " 4.81241\n",
       " 5.22026\n",
       " 6.68662\n",
       " 6.58931\n",
       " 4.95166\n",
       " 5.64242\n",
       " 5.46331\n",
       " 6.61922\n",
       " 5.71349"
      ]
     },
     "execution_count": 95,
     "metadata": {},
     "output_type": "execute_result"
    }
   ],
   "source": [
    "df[:score] = map(x -> x.μ, df[:score])"
   ]
  },
  {
   "cell_type": "code",
   "execution_count": 98,
   "metadata": {
    "collapsed": false
   },
   "outputs": [
    {
     "data": {
      "text/html": [
       "<table class=\"data-frame\"><thead><tr><th></th><th>director</th><th>score</th></tr></thead><tbody><tr><th>1</th><td>Mike Leigh</td><td>7.891083239713566</td></tr><tr><th>2</th><td>Lee Unkrich</td><td>7.861956555327411</td></tr><tr><th>3</th><td>Asghar Farhadi</td><td>7.834366117388497</td></tr><tr><th>4</th><td>Hayao Miyazaki</td><td>7.743212232538106</td></tr><tr><th>5</th><td>Damien Chazelle</td><td>7.69372251675656</td></tr><tr><th>6</th><td>Jean-Pierre Dardenne</td><td>7.662738625354124</td></tr><tr><th>7</th><td>Luc Dardenne</td><td>7.662738625354124</td></tr><tr><th>8</th><td>Bennett Miller</td><td>7.659622758607599</td></tr><tr><th>9</th><td>Jafar Panahi</td><td>7.655152660012336</td></tr><tr><th>10</th><td>Alexander Payne</td><td>7.63041787207395</td></tr><tr><th>11</th><td>Jean-Pierre Melville</td><td>7.625796753287531</td></tr><tr><th>12</th><td>John Lasseter</td><td>7.615803640763272</td></tr><tr><th>13</th><td>Spike Jonze</td><td>7.606399830812034</td></tr><tr><th>14</th><td>Paul Thomas Anderson</td><td>7.602720517106457</td></tr><tr><th>15</th><td>Martin Scorsese</td><td>7.588050579615547</td></tr><tr><th>16</th><td>Joshua Oppenheimer</td><td>7.546817979173104</td></tr><tr><th>17</th><td>Nick Park</td><td>7.53664990507178</td></tr><tr><th>18</th><td>Laurent Cantet</td><td>7.525345125034378</td></tr><tr><th>19</th><td>Brad Bird</td><td>7.523326108606252</td></tr><tr><th>20</th><td>Pete Docter</td><td>7.522890285215672</td></tr></tbody></table>"
      ],
      "text/plain": [
       "20×2 DataFrames.DataFrame\n",
       "│ Row │ director               │ score   │\n",
       "├─────┼────────────────────────┼─────────┤\n",
       "│ 1   │ \"Mike Leigh\"           │ 7.89108 │\n",
       "│ 2   │ \"Lee Unkrich\"          │ 7.86196 │\n",
       "│ 3   │ \"Asghar Farhadi\"       │ 7.83437 │\n",
       "│ 4   │ \"Hayao Miyazaki\"       │ 7.74321 │\n",
       "│ 5   │ \"Damien Chazelle\"      │ 7.69372 │\n",
       "│ 6   │ \"Jean-Pierre Dardenne\" │ 7.66274 │\n",
       "│ 7   │ \"Luc Dardenne\"         │ 7.66274 │\n",
       "│ 8   │ \"Bennett Miller\"       │ 7.65962 │\n",
       "│ 9   │ \"Jafar Panahi\"         │ 7.65515 │\n",
       "│ 10  │ \"Alexander Payne\"      │ 7.63042 │\n",
       "│ 11  │ \"Jean-Pierre Melville\" │ 7.6258  │\n",
       "│ 12  │ \"John Lasseter\"        │ 7.6158  │\n",
       "│ 13  │ \"Spike Jonze\"          │ 7.6064  │\n",
       "│ 14  │ \"Paul Thomas Anderson\" │ 7.60272 │\n",
       "│ 15  │ \"Martin Scorsese\"      │ 7.58805 │\n",
       "│ 16  │ \"Joshua Oppenheimer\"   │ 7.54682 │\n",
       "│ 17  │ \"Nick Park\"            │ 7.53665 │\n",
       "│ 18  │ \"Laurent Cantet\"       │ 7.52535 │\n",
       "│ 19  │ \"Brad Bird\"            │ 7.52333 │\n",
       "│ 20  │ \"Pete Docter\"          │ 7.52289 │"
      ]
     },
     "execution_count": 98,
     "metadata": {},
     "output_type": "execute_result"
    }
   ],
   "source": [
    "sort!(df, cols=[:score], rev=true)[1:20, :]"
   ]
  },
  {
   "cell_type": "code",
   "execution_count": 99,
   "metadata": {
    "collapsed": false
   },
   "outputs": [
    {
     "data": {
      "text/html": [
       "<table class=\"data-frame\"><thead><tr><th></th><th>id</th><th>director</th><th>title</th><th>metascore</th><th>user_score</th><th>release_date</th><th>running_time</th><th>rating</th><th>company</th><th>positive</th><th>mixed</th><th>negative</th><th>adjusted_average</th><th>isnew</th><th>adjusted_director_rating</th></tr></thead><tbody><tr><th>1</th><td>all-or-nothing</td><td>Mike Leigh</td><td>All or Nothing</td><td>72</td><td>7.4</td><td>October 25, 2002</td><td>128 min</td><td>Rated R for pervasive language and some sexuality.</td><td>Les Films Alain Sarde</td><td>7</td><td>3</td><td>0</td><td>7.24741844320058</td><td>false</td><td>7.891083239713566</td></tr><tr><th>2</th><td>happy-go-lucky</td><td>Mike Leigh</td><td>Happy-Go-Lucky</td><td>84</td><td>8.0</td><td>October 10, 2008</td><td>118 min</td><td>Rated R for language.</td><td>Ingenious Film Partners</td><td>199</td><td>14</td><td>42</td><td>8.036828744784522</td><td>true</td><td>7.891083239713566</td></tr><tr><th>3</th><td>life-is-sweet</td><td>Mike Leigh</td><td>Life Is Sweet</td><td>88</td><td>6.8</td><td>October 25, 1991</td><td>103 min</td><td>Rated R for language and a scene of sensuality</td><td>British Screen Productions</td><td>3</td><td>1</td><td>1</td><td>8.152785379343861</td><td>false</td><td>7.891083239713566</td></tr><tr><th>4</th><td>mr-turner</td><td>Mike Leigh</td><td>Mr. Turner</td><td>94</td><td>6.9</td><td>December 19, 2014</td><td>150 min</td><td>Rated R for some sexual content</td><td>Film4</td><td>83</td><td>22</td><td>18</td><td>8.898241880827932</td><td>true</td><td>7.891083239713566</td></tr><tr><th>5</th><td>naked</td><td>Mike Leigh</td><td>Naked</td><td>84</td><td>8.8</td><td>December 15, 1993</td><td>131 min</td><td>Unrated</td><td>British Screen Productions</td><td>14</td><td>1</td><td>0</td><td>7.893612079432005</td><td>false</td><td>7.891083239713566</td></tr><tr><th>6</th><td>secrets-lies</td><td>Mike Leigh</td><td>Secrets &amp; Lies</td><td>91</td><td>8.3</td><td>September 27, 1996</td><td>136 min</td><td>Rated R for language.</td><td>CiBy 2000</td><td>46</td><td>3</td><td>4</td><td>8.523838591231263</td><td>false</td><td>7.891083239713566</td></tr><tr><th>7</th><td>topsy-turvy</td><td>Mike Leigh</td><td>Topsy-Turvy</td><td>90</td><td>7.7</td><td>December 17, 1999</td><td>160 min</td><td>Rated R for a scene of risque nudity.</td><td>Thin Man Films</td><td>22</td><td>3</td><td>3</td><td>8.521139594088273</td><td>false</td><td>7.891083239713566</td></tr><tr><th>8</th><td>vera-drake</td><td>Mike Leigh</td><td>Vera Drake</td><td>83</td><td>7.6</td><td>October 10, 2004</td><td>125 min</td><td>Rated R for depiction of strong thematic material.</td><td>Ingenious Film Partners</td><td>28</td><td>4</td><td>4</td><td>8.167193863049452</td><td>false</td><td>7.891083239713566</td></tr></tbody></table>"
      ],
      "text/plain": [
       "8×15 DataFrames.DataFrame\n",
       "│ Row │ id               │ director     │ title            │ metascore │\n",
       "├─────┼──────────────────┼──────────────┼──────────────────┼───────────┤\n",
       "│ 1   │ \"all-or-nothing\" │ \"Mike Leigh\" │ \"All or Nothing\" │ 72        │\n",
       "│ 2   │ \"happy-go-lucky\" │ \"Mike Leigh\" │ \"Happy-Go-Lucky\" │ 84        │\n",
       "│ 3   │ \"life-is-sweet\"  │ \"Mike Leigh\" │ \"Life Is Sweet\"  │ 88        │\n",
       "│ 4   │ \"mr-turner\"      │ \"Mike Leigh\" │ \"Mr. Turner\"     │ 94        │\n",
       "│ 5   │ \"naked\"          │ \"Mike Leigh\" │ \"Naked\"          │ 84        │\n",
       "│ 6   │ \"secrets-lies\"   │ \"Mike Leigh\" │ \"Secrets & Lies\" │ 91        │\n",
       "│ 7   │ \"topsy-turvy\"    │ \"Mike Leigh\" │ \"Topsy-Turvy\"    │ 90        │\n",
       "│ 8   │ \"vera-drake\"     │ \"Mike Leigh\" │ \"Vera Drake\"     │ 83        │\n",
       "\n",
       "│ Row │ user_score │ release_date         │ running_time │\n",
       "├─────┼────────────┼──────────────────────┼──────────────┤\n",
       "│ 1   │ 7.4        │ \"October 25, 2002\"   │ \"128 min\"    │\n",
       "│ 2   │ 8.0        │ \"October 10, 2008\"   │ \"118 min\"    │\n",
       "│ 3   │ 6.8        │ \"October 25, 1991\"   │ \"103 min\"    │\n",
       "│ 4   │ 6.9        │ \"December 19, 2014\"  │ \"150 min\"    │\n",
       "│ 5   │ 8.8        │ \"December 15, 1993\"  │ \"131 min\"    │\n",
       "│ 6   │ 8.3        │ \"September 27, 1996\" │ \"136 min\"    │\n",
       "│ 7   │ 7.7        │ \"December 17, 1999\"  │ \"160 min\"    │\n",
       "│ 8   │ 7.6        │ \"October 10, 2004\"   │ \"125 min\"    │\n",
       "\n",
       "│ Row │ rating                                               │\n",
       "├─────┼──────────────────────────────────────────────────────┤\n",
       "│ 1   │ \"Rated R for pervasive language and some sexuality.\" │\n",
       "│ 2   │ \"Rated R for language.\"                              │\n",
       "│ 3   │ \"Rated R for language and a scene of sensuality\"     │\n",
       "│ 4   │ \"Rated R for some sexual content\"                    │\n",
       "│ 5   │ \"Unrated\"                                            │\n",
       "│ 6   │ \"Rated R for language.\"                              │\n",
       "│ 7   │ \"Rated R for a scene of risque nudity.\"              │\n",
       "│ 8   │ \"Rated R for depiction of strong thematic material.\" │\n",
       "\n",
       "│ Row │ company                      │ positive │ mixed │ negative │\n",
       "├─────┼──────────────────────────────┼──────────┼───────┼──────────┤\n",
       "│ 1   │ \"Les Films Alain Sarde\"      │ \"7\"      │ \"3\"   │ \"0\"      │\n",
       "│ 2   │ \"Ingenious Film Partners\"    │ \"199\"    │ \"14\"  │ \"42\"     │\n",
       "│ 3   │ \"British Screen Productions\" │ \"3\"      │ \"1\"   │ \"1\"      │\n",
       "│ 4   │ \"Film4\"                      │ \"83\"     │ \"22\"  │ \"18\"     │\n",
       "│ 5   │ \"British Screen Productions\" │ \"14\"     │ \"1\"   │ \"0\"      │\n",
       "│ 6   │ \"CiBy 2000\"                  │ \"46\"     │ \"3\"   │ \"4\"      │\n",
       "│ 7   │ \"Thin Man Films\"             │ \"22\"     │ \"3\"   │ \"3\"      │\n",
       "│ 8   │ \"Ingenious Film Partners\"    │ \"28\"     │ \"4\"   │ \"4\"      │\n",
       "\n",
       "│ Row │ adjusted_average │ isnew │ adjusted_director_rating │\n",
       "├─────┼──────────────────┼───────┼──────────────────────────┤\n",
       "│ 1   │ 7.24742          │ false │ 7.89108                  │\n",
       "│ 2   │ 8.03683          │ true  │ 7.89108                  │\n",
       "│ 3   │ 8.15279          │ false │ 7.89108                  │\n",
       "│ 4   │ 8.89824          │ true  │ 7.89108                  │\n",
       "│ 5   │ 7.89361          │ false │ 7.89108                  │\n",
       "│ 6   │ 8.52384          │ false │ 7.89108                  │\n",
       "│ 7   │ 8.52114          │ false │ 7.89108                  │\n",
       "│ 8   │ 8.16719          │ false │ 7.89108                  │"
      ]
     },
     "execution_count": 99,
     "metadata": {},
     "output_type": "execute_result"
    }
   ],
   "source": [
    "director_basics[director_basics[:director] .== \"Mike Leigh\", :]"
   ]
  },
  {
   "cell_type": "markdown",
   "metadata": {},
   "source": [
    "## Non-negative Matrix Factorization for similarity between user and critic.\n",
    "The goal here is to:\n",
    "- give a certain number of movies to the user to rate\n",
    "- identify the critic the user is the closest to\n",
    "- reccomend movies to the user based on that critic's preferences.\n",
    "\n",
    "This is better (I think) than traditional Collaborative Filtering, because the standard user won't see as many movies as the critics - so this could allow recommending more obscure movies, and also suggest to the user to read that critic's paper in the future...\n",
    "\n",
    "We could imagine having a hierarchical improvement, where for each genre, we would select a critic. But maybe later."
   ]
  },
  {
   "cell_type": "code",
   "execution_count": null,
   "metadata": {
    "collapsed": true
   },
   "outputs": [],
   "source": [
    "film_ids = convert(Array, unique(reviews[:id]))\n",
    "critic_ids = convert(Array, unique(reviews[:critic]));\n",
    "film_dict = Dict(collect(zip(film_ids, 1:length(film_ids))))\n",
    "critic_dict = Dict(collect(zip(critic_ids, 1:length(critic_ids))));\n",
    "film_is = [film_dict[film] for film in reviews[:id]]\n",
    "critic_is = [critic_dict[critic] for critic in reviews[:critic]];"
   ]
  },
  {
   "cell_type": "code",
   "execution_count": null,
   "metadata": {
    "collapsed": false
   },
   "outputs": [],
   "source": [
    "critic_x_film = sparse(critic_is, film_is, reviews[:score])"
   ]
  },
  {
   "cell_type": "code",
   "execution_count": null,
   "metadata": {
    "collapsed": true
   },
   "outputs": [],
   "source": [
    "means = Array{Float64}(size(critic_x_film, 2)) \n",
    "for i in 1:size(critic_x_film, 2)\n",
    "   means[i] = mean(nonzeros(critic_x_film[:, i]))\n",
    "end"
   ]
  },
  {
   "cell_type": "code",
   "execution_count": null,
   "metadata": {
    "collapsed": false
   },
   "outputs": [],
   "source": [
    "fit_mle(Dirichlet, [.1 .1; .9 .9], init= [.1 .1])"
   ]
  },
  {
   "cell_type": "code",
   "execution_count": null,
   "metadata": {
    "collapsed": true
   },
   "outputs": [],
   "source": []
  }
 ],
 "metadata": {
  "kernelspec": {
   "display_name": "Julia 0.5.2-pre",
   "language": "julia",
   "name": "julia-0.5"
  },
  "language_info": {
   "file_extension": ".jl",
   "mimetype": "application/julia",
   "name": "julia",
   "version": "0.5.2"
  }
 },
 "nbformat": 4,
 "nbformat_minor": 2
}
