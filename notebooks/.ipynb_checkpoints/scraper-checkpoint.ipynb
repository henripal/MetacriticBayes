{
 "cells": [
  {
   "cell_type": "code",
   "execution_count": 8,
   "metadata": {
    "collapsed": false
   },
   "outputs": [],
   "source": [
    "from bs4 import BeautifulSoup\n",
    "import urllib.request"
   ]
  },
  {
   "cell_type": "code",
   "execution_count": 24,
   "metadata": {
    "collapsed": true
   },
   "outputs": [],
   "source": [
    "BASE_URL = 'http://www.rottentomatoes.com'"
   ]
  },
  {
   "cell_type": "markdown",
   "metadata": {},
   "source": [
    "# Scraping one page for movie information\n",
    "add budget and box office"
   ]
  },
  {
   "cell_type": "code",
   "execution_count": 177,
   "metadata": {
    "collapsed": true
   },
   "outputs": [],
   "source": [
    "def makesoup(url):\n",
    "    return BeautifulSoup(urllib.request.urlopen(url).read(), \"lxml\")"
   ]
  },
  {
   "cell_type": "code",
   "execution_count": 206,
   "metadata": {
    "collapsed": true
   },
   "outputs": [],
   "source": [
    "def get_field_value(field, soup):\n",
    "    results = soup.find(text=field).parent.parent.find_all('a')\n",
    "    return [result.text.strip() for result in results] "
   ]
  },
  {
   "cell_type": "code",
   "execution_count": 207,
   "metadata": {
    "collapsed": true
   },
   "outputs": [],
   "source": [
    "def get_release_date(soup):\n",
    "    results = soup.find(text=\"In Theaters: \").parent.parent.find('time')\n",
    "    return results.text.strip() "
   ]
  },
  {
   "cell_type": "code",
   "execution_count": 208,
   "metadata": {
    "collapsed": true
   },
   "outputs": [],
   "source": [
    "def find_movie(url, cast_limit=3): \n",
    "    soup = makesoup(url)\n",
    "    scores = soup.find_all('span', {'class': 'meter-value'})\n",
    "    critic_score = scores[0].text\n",
    "    scores_audience = soup.find_all('div', {'class': 'meter-value'})\n",
    "    audience_score = scores_audience[0].text.strip()\n",
    "    director = get_field_value(\"Directed By: \", soup) \n",
    "    genres = get_field_value(\"Genre: \", soup)\n",
    "    date = get_release_date(soup)\n",
    "    actors = soup.find_all('div', {'class': 'cast-item'}, limit=cast_limit)\n",
    "    cast = [actor.find('span').text.strip() for actor in actors]\n",
    "    \n",
    "    return critic_score, audience_score, director, cast, genres, date"
   ]
  },
  {
   "cell_type": "code",
   "execution_count": 209,
   "metadata": {
    "collapsed": false
   },
   "outputs": [
    {
     "data": {
      "text/plain": [
       "('67%',\n",
       " '78%',\n",
       " ['F. Gary Gray'],\n",
       " ['Vin Diesel', 'Dwayne Johnson', 'Jason Statham'],\n",
       " ['Action & Adventure', 'Drama'],\n",
       " 'Apr 14, 2017')"
      ]
     },
     "execution_count": 209,
     "metadata": {},
     "output_type": "execute_result"
    }
   ],
   "source": [
    "find_movie(BASE_URL + \"/m/the_fate_of_the_furious\")"
   ]
  },
  {
   "cell_type": "markdown",
   "metadata": {},
   "source": [
    "# Scraping the search pages to build a list of movies"
   ]
  },
  {
   "cell_type": "code",
   "execution_count": 438,
   "metadata": {
    "collapsed": true
   },
   "outputs": [],
   "source": [
    "from selenium import webdriver\n",
    "import time\n",
    "import itertools\n",
    "from string import ascii_lowercase\n",
    "import random\n",
    "import pickle"
   ]
  },
  {
   "cell_type": "code",
   "execution_count": 419,
   "metadata": {
    "collapsed": true
   },
   "outputs": [],
   "source": [
    "kws = [''.join(i) for i in itertools.product(ascii_lowercase, repeat=3)]\n",
    "kws_2 = [''.join(i) for i in itertools.product(ascii_lowercase, repeat=2)]"
   ]
  },
  {
   "cell_type": "code",
   "execution_count": 474,
   "metadata": {
    "collapsed": true
   },
   "outputs": [],
   "source": [
    "driver = webdriver.PhantomJS()"
   ]
  },
  {
   "cell_type": "code",
   "execution_count": 475,
   "metadata": {
    "collapsed": true
   },
   "outputs": [],
   "source": [
    "# movie_list = []"
   ]
  },
  {
   "cell_type": "code",
   "execution_count": 476,
   "metadata": {
    "collapsed": false
   },
   "outputs": [
    {
     "data": {
      "text/plain": [
       "588"
      ]
     },
     "execution_count": 476,
     "metadata": {},
     "output_type": "execute_result"
    }
   ],
   "source": [
    "kws_2.index(kw)"
   ]
  },
  {
   "cell_type": "code",
   "execution_count": 477,
   "metadata": {
    "collapsed": false
   },
   "outputs": [],
   "source": [
    "for kw in kws_2[588:]:\n",
    "    time.sleep(5 + int(random.random()*10))\n",
    "    # initialize the search\n",
    "    driver.get(BASE_URL + \"/search/?search=\" + kw)\n",
    "    \n",
    "    try: \n",
    "        # expand the 'movie' section\n",
    "        element = driver.find_element_by_xpath('//*[@id=\"movieSection\"]/div/a')\n",
    "        element.click()\n",
    "\n",
    "        #get the source\n",
    "        html = driver.page_source\n",
    "        soup = BeautifulSoup(html, \"lxml\")\n",
    "\n",
    "        # scrape\n",
    "        for movie in soup.find_all('div', {'class': 'details'}):\n",
    "            movie_list.append(movie.find('a')['href'])\n",
    "\n",
    "        # there might be more pages\n",
    "        try:\n",
    "            # try to find the increment and the max of them\n",
    "            counter_text = soup.find('section', {'id': 'PartialResults'}).find_all('span')[1].text.strip()\n",
    "            (n, _, max_n) = counter_text.split(' ')\n",
    "            n = int(n)\n",
    "            max_n = int(max_n)\n",
    "\n",
    "            while True:\n",
    "                # iterate until you reach the end\n",
    "                if n==max_n:\n",
    "                    break\n",
    "\n",
    "                try:\n",
    "                    element = driver.find_element_by_xpath('//*[@id=\"PartialResults\"]/nav[1]/button[2]/span')\n",
    "                    element.click()\n",
    "                    time.sleep(3)\n",
    "\n",
    "                    for movie in soup.find_all('div', {'class': 'details'}):\n",
    "                        movie_list.append(movie.find('a')['href'])\n",
    "\n",
    "                    # re-initialize the counter\n",
    "                    html = driver.page_source\n",
    "                    soup = BeautifulSoup(html)\n",
    "                    counter_text = soup.find('section', {'id': 'PartialResults'}).find_all('span')[1].text.strip()\n",
    "                    n = int(counter_text.split(' ')[0])\n",
    "                except:\n",
    "                    pass\n",
    "        except:\n",
    "            pass\n",
    "    except:\n",
    "        pass"
   ]
  },
  {
   "cell_type": "code",
   "execution_count": 478,
   "metadata": {
    "collapsed": false
   },
   "outputs": [
    {
     "data": {
      "text/plain": [
       "'zz'"
      ]
     },
     "execution_count": 478,
     "metadata": {},
     "output_type": "execute_result"
    }
   ],
   "source": [
    "kw"
   ]
  },
  {
   "cell_type": "code",
   "execution_count": 479,
   "metadata": {
    "collapsed": false
   },
   "outputs": [
    {
     "data": {
      "text/plain": [
       "7674"
      ]
     },
     "execution_count": 479,
     "metadata": {},
     "output_type": "execute_result"
    }
   ],
   "source": [
    "len(movie_list)"
   ]
  },
  {
   "cell_type": "code",
   "execution_count": 480,
   "metadata": {
    "collapsed": false
   },
   "outputs": [],
   "source": [
    "with open('../data/movielist', 'wb') as f:\n",
    "    pickle.dump(movie_list, f)"
   ]
  },
  {
   "cell_type": "code",
   "execution_count": 485,
   "metadata": {
    "collapsed": false
   },
   "outputs": [
    {
     "data": {
      "text/plain": [
       "5996"
      ]
     },
     "execution_count": 485,
     "metadata": {},
     "output_type": "execute_result"
    }
   ],
   "source": [
    "len(set(movie_list))"
   ]
  },
  {
   "cell_type": "code",
   "execution_count": 490,
   "metadata": {
    "collapsed": true
   },
   "outputs": [],
   "source": [
    "movie_list = set(movie_list)\n",
    "movie_list = list(movie_list)"
   ]
  },
  {
   "cell_type": "code",
   "execution_count": 491,
   "metadata": {
    "collapsed": true
   },
   "outputs": [],
   "source": [
    "movie_list = sorted(movie_list)"
   ]
  },
  {
   "cell_type": "code",
   "execution_count": 500,
   "metadata": {
    "collapsed": false
   },
   "outputs": [
    {
     "data": {
      "text/plain": [
       "['/m/alfs_button_afloat',\n",
       " '/m/alice_in_earnestland',\n",
       " '/m/alice_in_the_cities',\n",
       " '/m/alien_covenant',\n",
       " '/m/alien_vs_predator',\n",
       " '/m/all-that-i-love-2010',\n",
       " '/m/all_about_eve_presented_by_tcm',\n",
       " '/m/all_about_steve',\n",
       " '/m/all_eyes_and_ears',\n",
       " '/m/all_eyez_on_me_2017',\n",
       " '/m/all_i_see_is_you',\n",
       " '/m/all_inclusive_ili_vsyo_vklyucheno_2013',\n",
       " '/m/all_nighter_2017',\n",
       " '/m/all_these_sleepless_nights',\n",
       " '/m/all_this_panic',\n",
       " '/m/all_we_had',\n",
       " '/m/allied',\n",
       " '/m/allos_dromos_den_ypirhe',\n",
       " '/m/almost_christmas_2016',\n",
       " '/m/alone_in_berlin',\n",
       " '/m/alpha_and_omega',\n",
       " '/m/alpha_and_omega_the_big_fureeze',\n",
       " '/m/always_shine',\n",
       " '/m/aly-aj-on-the-ride',\n",
       " '/m/alyosha-popovich-i-tugarin-zmey',\n",
       " '/m/american_1st_and_9th_armies_aachen_to_ruhr_river_1945',\n",
       " '/m/american_anarchist',\n",
       " '/m/american_assassin_2017',\n",
       " '/m/american_fable',\n",
       " '/m/american_made_2017',\n",
       " '/m/american_pie',\n",
       " '/m/american_psycho',\n",
       " '/m/american_sniper',\n",
       " '/m/american_ultra',\n",
       " '/m/american_wrestler_the_wizard',\n",
       " '/m/amerika_am_abzug_konnen_verscharfte_waffengesetze_leben_retten',\n",
       " '/m/amityville_the_awakening',\n",
       " '/m/ammavin_kaipesi',\n",
       " '/m/amor-en-fin',\n",
       " '/m/an-american-rebel-steve-mcqueen',\n",
       " '/m/an-evening-with-paul-lynde',\n",
       " '/m/an_affair_to_remember_60th_anniversary_presented_by_tcm',\n",
       " '/m/an_evening_with_hp_lovecraft',\n",
       " '/m/an_inconvenient_sequel_truth_to_power',\n",
       " '/m/anarchy',\n",
       " '/m/and_now_for_something_completely_different',\n",
       " '/m/andersen-zhizn-bez-lyubvi-andersen-life-without-love',\n",
       " '/m/andrew_wk_who_knows',\n",
       " '/m/andrew_wk_who_knows_live_1992_2004',\n",
       " '/m/andrzej_wajda_robmy_zdjecie',\n",
       " '/m/angkor_awakens_a_portrait_of_cambodia',\n",
       " '/m/annabelle_creation',\n",
       " '/m/anonymous_2016',\n",
       " '/m/another_48_hrs',\n",
       " '/m/another_evil',\n",
       " '/m/antarctica_ice_and_sky_2017',\n",
       " '/m/antboy_revenge_of_the_red_fury',\n",
       " '/m/antikiller-dk-lyubov-bez-pamyati',\n",
       " '/m/ao-lua-ha-dong-the-white-silk-dress',\n",
       " '/m/ao-no-honoo-the-blue-light',\n",
       " '/m/ao-vivo',\n",
       " '/m/ao_ha_ride',\n",
       " '/m/ao_le_dernier_neandertal_2010',\n",
       " '/m/ao_no_roku_go',\n",
       " '/m/aoi-kuruma-a-blue-automobile',\n",
       " '/m/aozoranoyukue-way-of-blue-sky',\n",
       " '/m/ap_ta_kokala_vgalmena_2011',\n",
       " '/m/apocalypse_now',\n",
       " '/m/apocalypto',\n",
       " '/m/apollo_18',\n",
       " '/m/apprentice',\n",
       " '/m/aqua_teen_hunger_force_colon_movie_film_for_theatres',\n",
       " '/m/aquaman_2006',\n",
       " '/m/aquaman_2018',\n",
       " '/m/aquamarine',\n",
       " '/m/aquanoids',\n",
       " '/m/aquarius',\n",
       " '/m/aquel_no_era_yo',\n",
       " '/m/aquellos_que_me_aman_tomaran_el_tren',\n",
       " '/m/araburu_tamashiitachi',\n",
       " '/m/archimedes_principle_the',\n",
       " '/m/are_we_done_yet',\n",
       " '/m/argentino_ql',\n",
       " '/m/arij',\n",
       " '/m/arise_from_darkness',\n",
       " '/m/arj-barker-lmao',\n",
       " '/m/arj_barker_lyao',\n",
       " '/m/arjan',\n",
       " '/m/arjun',\n",
       " '/m/arjun-pandit',\n",
       " '/m/arjun_and_alison',\n",
       " '/m/arjun_the_warrior_prince',\n",
       " '/m/arjunan_kadhali',\n",
       " '/m/arjunan_sakshi',\n",
       " '/m/arq',\n",
       " '/m/arquimedes-matematicas-2000-poliedros',\n",
       " '/m/arrival_2016',\n",
       " '/m/arsenal_2017',\n",
       " '/m/as_good_as_you',\n",
       " '/m/as_you_are_2017']"
      ]
     },
     "execution_count": 500,
     "metadata": {},
     "output_type": "execute_result"
    }
   ],
   "source": [
    "n = 800\n",
    "dn = 100\n",
    "movie_list[(n):(n+dn)]"
   ]
  },
  {
   "cell_type": "code",
   "execution_count": 404,
   "metadata": {
    "collapsed": false
   },
   "outputs": [
    {
     "data": {
      "text/plain": [
       "[3, 4]"
      ]
     },
     "execution_count": 404,
     "metadata": {},
     "output_type": "execute_result"
    }
   ],
   "source": [
    "a[2:]"
   ]
  },
  {
   "cell_type": "code",
   "execution_count": 412,
   "metadata": {
    "collapsed": false
   },
   "outputs": [
    {
     "data": {
      "text/plain": [
       "146.46666666666667"
      ]
     },
     "execution_count": 412,
     "metadata": {},
     "output_type": "execute_result"
    }
   ],
   "source": [
    "len(kws)*30/60/60"
   ]
  },
  {
   "cell_type": "code",
   "execution_count": 408,
   "metadata": {
    "collapsed": true
   },
   "outputs": [],
   "source": [
    "import random"
   ]
  },
  {
   "cell_type": "code",
   "execution_count": 409,
   "metadata": {
    "collapsed": false
   },
   "outputs": [
    {
     "data": {
      "text/plain": [
       "0.10679503405704527"
      ]
     },
     "execution_count": 409,
     "metadata": {},
     "output_type": "execute_result"
    }
   ],
   "source": [
    "random.random()"
   ]
  },
  {
   "cell_type": "code",
   "execution_count": 502,
   "metadata": {
    "collapsed": false
   },
   "outputs": [],
   "source": [
    "url = 'http://www.metacritic.com/movie/babe/details'"
   ]
  },
  {
   "cell_type": "code",
   "execution_count": 503,
   "metadata": {
    "collapsed": true
   },
   "outputs": [],
   "source": [
    "req = urllib.request.Request(url, headers={'User-Agent': 'chrome'})\n",
    "html = urllib.request.urlopen(req).read()\n",
    "\n",
    "soup =  BeautifulSoup(html, \"lxml\")\n"
   ]
  },
  {
   "cell_type": "code",
   "execution_count": 508,
   "metadata": {
    "collapsed": false
   },
   "outputs": [
    {
     "data": {
      "text/plain": [
       "'Babe'"
      ]
     },
     "execution_count": 508,
     "metadata": {},
     "output_type": "execute_result"
    }
   ],
   "source": [
    "soup.find('h1').text"
   ]
  },
  {
   "cell_type": "code",
   "execution_count": 524,
   "metadata": {
    "collapsed": false
   },
   "outputs": [
    {
     "data": {
      "text/plain": [
       "'83'"
      ]
     },
     "execution_count": 524,
     "metadata": {},
     "output_type": "execute_result"
    }
   ],
   "source": [
    "soup.select('span.metascore_w.header_size')[0].text"
   ]
  },
  {
   "cell_type": "code",
   "execution_count": 525,
   "metadata": {
    "collapsed": false
   },
   "outputs": [
    {
     "data": {
      "text/plain": [
       "'7.7'"
      ]
     },
     "execution_count": 525,
     "metadata": {},
     "output_type": "execute_result"
    }
   ],
   "source": [
    "soup.select('span.metascore_w.user')[0].text"
   ]
  },
  {
   "cell_type": "code",
   "execution_count": 531,
   "metadata": {
    "collapsed": false
   },
   "outputs": [
    {
     "data": {
      "text/plain": [
       "'89 min'"
      ]
     },
     "execution_count": 531,
     "metadata": {},
     "output_type": "execute_result"
    }
   ],
   "source": [
    "soup.find('tr', {'class': 'runtime'}).find('td', {'class':'data'}).text"
   ]
  },
  {
   "cell_type": "code",
   "execution_count": 540,
   "metadata": {
    "collapsed": false
   },
   "outputs": [
    {
     "data": {
      "text/plain": [
       "'G'"
      ]
     },
     "execution_count": 540,
     "metadata": {},
     "output_type": "execute_result"
    }
   ],
   "source": [
    "soup.find('tr', {'class': 'movie_rating'}).find('td', {'class':'data'}).text.strip()"
   ]
  },
  {
   "cell_type": "code",
   "execution_count": 558,
   "metadata": {
    "collapsed": false
   },
   "outputs": [
    {
     "data": {
      "text/plain": [
       "<div class=\"product_info lighter oswald upper pad_btm_half pad_top_half\">\n",
       "<span class=\"distributor\"><a href=\"/company/american-broadcasting-company-abc\">American Broadcasting Company (ABC)</a> | </span>\n",
       "<span class=\"release_date\">\n",
       "<span class=\"label\">Release Date:</span>\n",
       "<span>August 4, 1995</span>\n",
       "</span>\n",
       "</div>"
      ]
     },
     "execution_count": 558,
     "metadata": {},
     "output_type": "execute_result"
    }
   ],
   "source": [
    "soup.find(text='Release Date:').parent.parent.parent"
   ]
  },
  {
   "cell_type": "code",
   "execution_count": 543,
   "metadata": {
    "collapsed": false
   },
   "outputs": [
    {
     "data": {
      "text/plain": [
       "'Universal Pictures'"
      ]
     },
     "execution_count": 543,
     "metadata": {},
     "output_type": "execute_result"
    }
   ],
   "source": [
    "soup.find('tr', {'class': 'company'}).find('td', {'class':'data'}).text.strip()"
   ]
  },
  {
   "cell_type": "code",
   "execution_count": 548,
   "metadata": {
    "collapsed": false
   },
   "outputs": [
    {
     "data": {
      "text/plain": [
       "[<span>Adventure</span>,\n",
       " <span>Drama</span>,\n",
       " <span>Fantasy</span>,\n",
       " <span>Family</span>]"
      ]
     },
     "execution_count": 548,
     "metadata": {},
     "output_type": "execute_result"
    }
   ],
   "source": [
    "soup.find('tr', {'class': 'genres'}).find('td', {'class':'data'}).find_all('span')"
   ]
  },
  {
   "cell_type": "code",
   "execution_count": 550,
   "metadata": {
    "collapsed": false
   },
   "outputs": [
    {
     "data": {
      "text/plain": [
       "[<span>USA</span>, <span>Australia</span>]"
      ]
     },
     "execution_count": 550,
     "metadata": {},
     "output_type": "execute_result"
    }
   ],
   "source": [
    "soup.find('tr', {'class': 'countries'}).find('td', {'class':'data'}).find_all('span')"
   ]
  },
  {
   "cell_type": "code",
   "execution_count": 553,
   "metadata": {
    "collapsed": false
   },
   "outputs": [
    {
     "data": {
      "text/plain": [
       "'English'"
      ]
     },
     "execution_count": 553,
     "metadata": {},
     "output_type": "execute_result"
    }
   ],
   "source": [
    "soup.find('tr', {'class': 'languages'}).find('td', {'class':'data'}).text.strip()"
   ]
  },
  {
   "cell_type": "code",
   "execution_count": 569,
   "metadata": {
    "collapsed": false
   },
   "outputs": [
    {
     "data": {
      "text/plain": [
       "'August 4, 1995'"
      ]
     },
     "execution_count": 569,
     "metadata": {},
     "output_type": "execute_result"
    }
   ],
   "source": [
    "soup.find('div', {'class': 'product_info'}).find('span', {'class': 'release_date'}).text.strip().split('\\n')[1]"
   ]
  },
  {
   "cell_type": "code",
   "execution_count": null,
   "metadata": {
    "collapsed": true
   },
   "outputs": [],
   "source": []
  }
 ],
 "metadata": {
  "kernelspec": {
   "display_name": "Python 3",
   "language": "python",
   "name": "python3"
  }
 },
 "nbformat": 4,
 "nbformat_minor": 2
}
